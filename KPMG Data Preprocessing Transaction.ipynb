{
 "cells": [
  {
   "cell_type": "code",
   "execution_count": 3,
   "id": "dca38b19-06ab-42ce-8014-5696c6456349",
   "metadata": {},
   "outputs": [],
   "source": [
    "import pandas as pd\n",
    "import numpy as np\n",
    "import matplotlib.pyplot as plt\n",
    "%matplotlib inline\n",
    "import seaborn as sns"
   ]
  },
  {
   "cell_type": "code",
   "execution_count": 4,
   "id": "e8fc9e61-7b6d-4609-a01e-2230f0d73f9b",
   "metadata": {},
   "outputs": [
    {
     "data": {
      "text/html": [
       "<div>\n",
       "<style scoped>\n",
       "    .dataframe tbody tr th:only-of-type {\n",
       "        vertical-align: middle;\n",
       "    }\n",
       "\n",
       "    .dataframe tbody tr th {\n",
       "        vertical-align: top;\n",
       "    }\n",
       "\n",
       "    .dataframe thead th {\n",
       "        text-align: right;\n",
       "    }\n",
       "</style>\n",
       "<table border=\"1\" class=\"dataframe\">\n",
       "  <thead>\n",
       "    <tr style=\"text-align: right;\">\n",
       "      <th></th>\n",
       "      <th>transaction_id</th>\n",
       "      <th>product_id</th>\n",
       "      <th>customer_id</th>\n",
       "      <th>transaction_date</th>\n",
       "      <th>online_order</th>\n",
       "      <th>order_status</th>\n",
       "      <th>brand</th>\n",
       "      <th>product_line</th>\n",
       "      <th>product_class</th>\n",
       "      <th>product_size</th>\n",
       "      <th>...</th>\n",
       "      <th>Unnamed: 16</th>\n",
       "      <th>Unnamed: 17</th>\n",
       "      <th>Unnamed: 18</th>\n",
       "      <th>Unnamed: 19</th>\n",
       "      <th>Unnamed: 20</th>\n",
       "      <th>Unnamed: 21</th>\n",
       "      <th>Unnamed: 22</th>\n",
       "      <th>Unnamed: 23</th>\n",
       "      <th>Unnamed: 24</th>\n",
       "      <th>Unnamed: 25</th>\n",
       "    </tr>\n",
       "  </thead>\n",
       "  <tbody>\n",
       "    <tr>\n",
       "      <th>16111</th>\n",
       "      <td>16112</td>\n",
       "      <td>26</td>\n",
       "      <td>1150</td>\n",
       "      <td>2017-02-03</td>\n",
       "      <td>1.0</td>\n",
       "      <td>Approved</td>\n",
       "      <td>WeareA2B</td>\n",
       "      <td>Standard</td>\n",
       "      <td>medium</td>\n",
       "      <td>medium</td>\n",
       "      <td>...</td>\n",
       "      <td>NaN</td>\n",
       "      <td>NaN</td>\n",
       "      <td>NaN</td>\n",
       "      <td>NaN</td>\n",
       "      <td>NaN</td>\n",
       "      <td>NaN</td>\n",
       "      <td>NaN</td>\n",
       "      <td>NaN</td>\n",
       "      <td>NaN</td>\n",
       "      <td>NaN</td>\n",
       "    </tr>\n",
       "  </tbody>\n",
       "</table>\n",
       "<p>1 rows × 26 columns</p>\n",
       "</div>"
      ],
      "text/plain": [
       "       transaction_id  product_id  customer_id transaction_date  online_order  \\\n",
       "16111           16112          26         1150       2017-02-03           1.0   \n",
       "\n",
       "      order_status     brand product_line product_class product_size  ...  \\\n",
       "16111     Approved  WeareA2B     Standard        medium       medium  ...   \n",
       "\n",
       "       Unnamed: 16  Unnamed: 17  Unnamed: 18  Unnamed: 19  Unnamed: 20  \\\n",
       "16111          NaN          NaN          NaN          NaN          NaN   \n",
       "\n",
       "       Unnamed: 21  Unnamed: 22  Unnamed: 23  Unnamed: 24  Unnamed: 25  \n",
       "16111          NaN          NaN          NaN          NaN          NaN  \n",
       "\n",
       "[1 rows x 26 columns]"
      ]
     },
     "execution_count": 4,
     "metadata": {},
     "output_type": "execute_result"
    }
   ],
   "source": [
    "# reading transaction table\n",
    "transaction = pd.read_excel('KPMG_VI_New_raw_data_update_final.xlsx', sheet_name='Transactions', header=1)\n",
    "transaction.sample()"
   ]
  },
  {
   "cell_type": "code",
   "execution_count": 5,
   "id": "085134a7-4eb6-4835-a036-743611225822",
   "metadata": {},
   "outputs": [
    {
     "data": {
      "text/plain": [
       "(20000, 26)"
      ]
     },
     "execution_count": 5,
     "metadata": {},
     "output_type": "execute_result"
    }
   ],
   "source": [
    "# checking for shape of the table\n",
    "transaction.shape"
   ]
  },
  {
   "cell_type": "code",
   "execution_count": 6,
   "id": "00e9ff04-00cc-434f-a75e-161163e51d70",
   "metadata": {},
   "outputs": [
    {
     "name": "stdout",
     "output_type": "stream",
     "text": [
      "<class 'pandas.core.frame.DataFrame'>\n",
      "RangeIndex: 20000 entries, 0 to 19999\n",
      "Data columns (total 26 columns):\n",
      " #   Column                   Non-Null Count  Dtype         \n",
      "---  ------                   --------------  -----         \n",
      " 0   transaction_id           20000 non-null  int64         \n",
      " 1   product_id               20000 non-null  int64         \n",
      " 2   customer_id              20000 non-null  int64         \n",
      " 3   transaction_date         20000 non-null  datetime64[ns]\n",
      " 4   online_order             19640 non-null  float64       \n",
      " 5   order_status             20000 non-null  object        \n",
      " 6   brand                    19803 non-null  object        \n",
      " 7   product_line             19803 non-null  object        \n",
      " 8   product_class            19803 non-null  object        \n",
      " 9   product_size             19803 non-null  object        \n",
      " 10  list_price               20000 non-null  float64       \n",
      " 11  standard_cost            19803 non-null  float64       \n",
      " 12  product_first_sold_date  19803 non-null  float64       \n",
      " 13  Unnamed: 13              0 non-null      float64       \n",
      " 14  Unnamed: 14              0 non-null      float64       \n",
      " 15  Unnamed: 15              0 non-null      float64       \n",
      " 16  Unnamed: 16              0 non-null      float64       \n",
      " 17  Unnamed: 17              0 non-null      float64       \n",
      " 18  Unnamed: 18              0 non-null      float64       \n",
      " 19  Unnamed: 19              0 non-null      float64       \n",
      " 20  Unnamed: 20              0 non-null      float64       \n",
      " 21  Unnamed: 21              0 non-null      float64       \n",
      " 22  Unnamed: 22              0 non-null      float64       \n",
      " 23  Unnamed: 23              0 non-null      float64       \n",
      " 24  Unnamed: 24              0 non-null      float64       \n",
      " 25  Unnamed: 25              0 non-null      float64       \n",
      "dtypes: datetime64[ns](1), float64(17), int64(3), object(5)\n",
      "memory usage: 4.0+ MB\n"
     ]
    }
   ],
   "source": [
    "# dtype of all the columns\n",
    "transaction.info()"
   ]
  },
  {
   "cell_type": "code",
   "execution_count": 7,
   "id": "c9f16d41-23be-46e5-84c2-721137407d4a",
   "metadata": {},
   "outputs": [
    {
     "data": {
      "text/plain": [
       "Index(['transaction_id', 'product_id', 'customer_id', 'transaction_date',\n",
       "       'online_order', 'order_status', 'brand', 'product_line',\n",
       "       'product_class', 'product_size', 'list_price', 'standard_cost',\n",
       "       'product_first_sold_date'],\n",
       "      dtype='object')"
      ]
     },
     "execution_count": 7,
     "metadata": {},
     "output_type": "execute_result"
    }
   ],
   "source": [
    "# dropping 'Unnamed' columns\n",
    "unnanmed_columns = [column for column in transaction.columns if 'Unnamed' in column]\n",
    "transaction.drop(columns=unnanmed_columns, inplace=True)\n",
    "transaction.columns"
   ]
  },
  {
   "cell_type": "code",
   "execution_count": 8,
   "id": "463b2122-85ce-4815-b0a0-fe5ff8cfec78",
   "metadata": {},
   "outputs": [
    {
     "data": {
      "text/html": [
       "<div>\n",
       "<style scoped>\n",
       "    .dataframe tbody tr th:only-of-type {\n",
       "        vertical-align: middle;\n",
       "    }\n",
       "\n",
       "    .dataframe tbody tr th {\n",
       "        vertical-align: top;\n",
       "    }\n",
       "\n",
       "    .dataframe thead th {\n",
       "        text-align: right;\n",
       "    }\n",
       "</style>\n",
       "<table border=\"1\" class=\"dataframe\">\n",
       "  <thead>\n",
       "    <tr style=\"text-align: right;\">\n",
       "      <th></th>\n",
       "      <th>transaction_id</th>\n",
       "      <th>product_id</th>\n",
       "      <th>customer_id</th>\n",
       "      <th>transaction_date</th>\n",
       "      <th>online_order</th>\n",
       "      <th>order_status</th>\n",
       "      <th>brand</th>\n",
       "      <th>product_line</th>\n",
       "      <th>product_class</th>\n",
       "      <th>product_size</th>\n",
       "      <th>list_price</th>\n",
       "      <th>standard_cost</th>\n",
       "      <th>product_first_sold_date</th>\n",
       "    </tr>\n",
       "  </thead>\n",
       "  <tbody>\n",
       "    <tr>\n",
       "      <th>825</th>\n",
       "      <td>826</td>\n",
       "      <td>2</td>\n",
       "      <td>1307</td>\n",
       "      <td>2017-09-20</td>\n",
       "      <td>0.0</td>\n",
       "      <td>Approved</td>\n",
       "      <td>Giant Bicycles</td>\n",
       "      <td>Road</td>\n",
       "      <td>low</td>\n",
       "      <td>small</td>\n",
       "      <td>590.26</td>\n",
       "      <td>525.33</td>\n",
       "      <td>36668.0</td>\n",
       "    </tr>\n",
       "    <tr>\n",
       "      <th>16193</th>\n",
       "      <td>16194</td>\n",
       "      <td>58</td>\n",
       "      <td>178</td>\n",
       "      <td>2017-10-27</td>\n",
       "      <td>0.0</td>\n",
       "      <td>Approved</td>\n",
       "      <td>OHM Cycles</td>\n",
       "      <td>Standard</td>\n",
       "      <td>medium</td>\n",
       "      <td>medium</td>\n",
       "      <td>912.52</td>\n",
       "      <td>141.40</td>\n",
       "      <td>42295.0</td>\n",
       "    </tr>\n",
       "    <tr>\n",
       "      <th>17340</th>\n",
       "      <td>17341</td>\n",
       "      <td>6</td>\n",
       "      <td>1670</td>\n",
       "      <td>2017-03-02</td>\n",
       "      <td>0.0</td>\n",
       "      <td>Approved</td>\n",
       "      <td>OHM Cycles</td>\n",
       "      <td>Standard</td>\n",
       "      <td>high</td>\n",
       "      <td>medium</td>\n",
       "      <td>227.88</td>\n",
       "      <td>136.73</td>\n",
       "      <td>37659.0</td>\n",
       "    </tr>\n",
       "    <tr>\n",
       "      <th>16924</th>\n",
       "      <td>16925</td>\n",
       "      <td>32</td>\n",
       "      <td>499</td>\n",
       "      <td>2017-01-16</td>\n",
       "      <td>0.0</td>\n",
       "      <td>Approved</td>\n",
       "      <td>Giant Bicycles</td>\n",
       "      <td>Standard</td>\n",
       "      <td>medium</td>\n",
       "      <td>medium</td>\n",
       "      <td>642.70</td>\n",
       "      <td>211.37</td>\n",
       "      <td>37337.0</td>\n",
       "    </tr>\n",
       "    <tr>\n",
       "      <th>11015</th>\n",
       "      <td>11016</td>\n",
       "      <td>0</td>\n",
       "      <td>2456</td>\n",
       "      <td>2017-05-12</td>\n",
       "      <td>NaN</td>\n",
       "      <td>Approved</td>\n",
       "      <td>NaN</td>\n",
       "      <td>NaN</td>\n",
       "      <td>NaN</td>\n",
       "      <td>NaN</td>\n",
       "      <td>1719.95</td>\n",
       "      <td>NaN</td>\n",
       "      <td>NaN</td>\n",
       "    </tr>\n",
       "  </tbody>\n",
       "</table>\n",
       "</div>"
      ],
      "text/plain": [
       "       transaction_id  product_id  customer_id transaction_date  online_order  \\\n",
       "825               826           2         1307       2017-09-20           0.0   \n",
       "16193           16194          58          178       2017-10-27           0.0   \n",
       "17340           17341           6         1670       2017-03-02           0.0   \n",
       "16924           16925          32          499       2017-01-16           0.0   \n",
       "11015           11016           0         2456       2017-05-12           NaN   \n",
       "\n",
       "      order_status           brand product_line product_class product_size  \\\n",
       "825       Approved  Giant Bicycles         Road           low        small   \n",
       "16193     Approved      OHM Cycles     Standard        medium       medium   \n",
       "17340     Approved      OHM Cycles     Standard          high       medium   \n",
       "16924     Approved  Giant Bicycles     Standard        medium       medium   \n",
       "11015     Approved             NaN          NaN           NaN          NaN   \n",
       "\n",
       "       list_price  standard_cost  product_first_sold_date  \n",
       "825        590.26         525.33                  36668.0  \n",
       "16193      912.52         141.40                  42295.0  \n",
       "17340      227.88         136.73                  37659.0  \n",
       "16924      642.70         211.37                  37337.0  \n",
       "11015     1719.95            NaN                      NaN  "
      ]
     },
     "execution_count": 8,
     "metadata": {},
     "output_type": "execute_result"
    }
   ],
   "source": [
    "transaction.sample(5)"
   ]
  },
  {
   "cell_type": "markdown",
   "id": "ac308b3e-7811-4f31-8ced-410b6ad033a8",
   "metadata": {},
   "source": [
    "## Data Preprocessing"
   ]
  },
  {
   "cell_type": "markdown",
   "id": "eba5e27e-e5e7-49ca-b439-1c8f1665f01c",
   "metadata": {},
   "source": [
    "### Null values and Incorrect values"
   ]
  },
  {
   "cell_type": "code",
   "execution_count": 9,
   "id": "f6c21633-d31e-4e15-801a-ee80d7c3bdcd",
   "metadata": {},
   "outputs": [
    {
     "name": "stdout",
     "output_type": "stream",
     "text": [
      "{'online_order': 1.8}\n",
      "{'brand': 0.985}\n",
      "{'product_line': 0.985}\n",
      "{'product_class': 0.985}\n",
      "{'product_size': 0.985}\n",
      "{'standard_cost': 0.985}\n",
      "{'product_first_sold_date': 0.985}\n"
     ]
    }
   ],
   "source": [
    "# checking for Null values and percentage of Null values\n",
    "for column in transaction.columns:\n",
    "    if transaction[column].isna().sum() > 0:\n",
    "        print({column: transaction[column].isna().sum() * 100 / len(transaction)})"
   ]
  },
  {
   "cell_type": "code",
   "execution_count": 10,
   "id": "2a9e2c1f-b585-4a88-bc0f-87cac0475fbd",
   "metadata": {},
   "outputs": [
    {
     "data": {
      "text/plain": [
       "array([0], dtype=int64)"
      ]
     },
     "execution_count": 10,
     "metadata": {},
     "output_type": "execute_result"
    }
   ],
   "source": [
    "transaction[transaction.brand.isna()].product_id.unique()"
   ]
  },
  {
   "cell_type": "markdown",
   "id": "79acd7b5-60a1-41ff-b2ae-e80b3b1577a2",
   "metadata": {},
   "source": [
    "*No feature has high level of Null values. However for Product ID: 0, we don't have any details.*"
   ]
  },
  {
   "cell_type": "code",
   "execution_count": 11,
   "id": "843177ee-e8a2-453e-8473-7f47712c7005",
   "metadata": {},
   "outputs": [
    {
     "data": {
      "text/plain": [
       "['online_order', 'standard_cost', 'product_first_sold_date']"
      ]
     },
     "execution_count": 11,
     "metadata": {},
     "output_type": "execute_result"
    }
   ],
   "source": [
    "# getting list of all the Numerical variables with Null values\n",
    "numerical_features_na = [column for column in transaction.columns if transaction[column].dtype != 'O'\n",
    "                        and transaction[column].isna().sum() > 0]\n",
    "numerical_features_na"
   ]
  },
  {
   "cell_type": "code",
   "execution_count": 12,
   "id": "13c49acd-713d-47c7-8693-e4414d2b275e",
   "metadata": {},
   "outputs": [],
   "source": [
    "# replacing Null values for Numerical variables\n",
    "transaction['online_order'].fillna(transaction['online_order'].mode()[0], inplace=True)\n",
    "transaction['standard_cost'].fillna(transaction['standard_cost'].median(), inplace=True)\n",
    "transaction['product_first_sold_date'].fillna(transaction['product_first_sold_date'].mode()[0], inplace=True)"
   ]
  },
  {
   "cell_type": "code",
   "execution_count": 13,
   "id": "9bb7ca05-7461-4014-be22-7d1a62890546",
   "metadata": {},
   "outputs": [
    {
     "name": "stdout",
     "output_type": "stream",
     "text": [
      "order_status\n",
      "['Approved' 'Cancelled'] \n",
      "\n",
      "brand\n",
      "['Solex' 'Trek Bicycles' 'OHM Cycles' 'Norco Bicycles' 'Giant Bicycles'\n",
      " 'WeareA2B' nan] \n",
      "\n",
      "product_line\n",
      "['Standard' 'Road' 'Mountain' 'Touring' nan] \n",
      "\n",
      "product_class\n",
      "['medium' 'low' 'high' nan] \n",
      "\n",
      "product_size\n",
      "['medium' 'large' 'small' nan] \n",
      "\n"
     ]
    }
   ],
   "source": [
    "# checking for unique values of all the categorical features\n",
    "categorical_features = [column for column in transaction.columns if transaction[column].dtype == 'O']\n",
    "for feature in categorical_features:\n",
    "    print(feature)\n",
    "    print(transaction[feature].unique(),'\\n')"
   ]
  },
  {
   "cell_type": "code",
   "execution_count": 14,
   "id": "a3e4970b-7214-4bb2-a154-867600be23f2",
   "metadata": {},
   "outputs": [
    {
     "data": {
      "text/plain": [
       "['brand', 'product_line', 'product_class', 'product_size']"
      ]
     },
     "execution_count": 14,
     "metadata": {},
     "output_type": "execute_result"
    }
   ],
   "source": [
    "# checking for categorical variables with Null values\n",
    "categorical_features_na = [column for column in transaction.columns if transaction[column].dtype == 'O'\n",
    "                       and transaction[column].isna().sum() > 0]\n",
    "categorical_features_na"
   ]
  },
  {
   "cell_type": "code",
   "execution_count": 15,
   "id": "6e0e61a6-db3b-45ce-9042-15500819c1d5",
   "metadata": {},
   "outputs": [],
   "source": [
    "# handling Null values for categorical features\n",
    "for feature in categorical_features_na:\n",
    "    transaction[feature].fillna('Missing', inplace=True)"
   ]
  },
  {
   "cell_type": "code",
   "execution_count": 16,
   "id": "3876667b-1451-4754-bf3e-e4f37ce60c4a",
   "metadata": {},
   "outputs": [
    {
     "data": {
      "text/plain": [
       "transaction_id             0\n",
       "product_id                 0\n",
       "customer_id                0\n",
       "transaction_date           0\n",
       "online_order               0\n",
       "order_status               0\n",
       "brand                      0\n",
       "product_line               0\n",
       "product_class              0\n",
       "product_size               0\n",
       "list_price                 0\n",
       "standard_cost              0\n",
       "product_first_sold_date    0\n",
       "dtype: int64"
      ]
     },
     "execution_count": 16,
     "metadata": {},
     "output_type": "execute_result"
    }
   ],
   "source": [
    "# rechecking for Null values\n",
    "transaction.isna().sum()"
   ]
  },
  {
   "cell_type": "code",
   "execution_count": 17,
   "id": "f6215a68-67ae-4b3c-a113-63e909e41515",
   "metadata": {},
   "outputs": [
    {
     "data": {
      "text/html": [
       "<div>\n",
       "<style scoped>\n",
       "    .dataframe tbody tr th:only-of-type {\n",
       "        vertical-align: middle;\n",
       "    }\n",
       "\n",
       "    .dataframe tbody tr th {\n",
       "        vertical-align: top;\n",
       "    }\n",
       "\n",
       "    .dataframe thead th {\n",
       "        text-align: right;\n",
       "    }\n",
       "</style>\n",
       "<table border=\"1\" class=\"dataframe\">\n",
       "  <thead>\n",
       "    <tr style=\"text-align: right;\">\n",
       "      <th></th>\n",
       "      <th>transaction_id</th>\n",
       "      <th>product_id</th>\n",
       "      <th>customer_id</th>\n",
       "      <th>transaction_date</th>\n",
       "      <th>online_order</th>\n",
       "      <th>order_status</th>\n",
       "      <th>brand</th>\n",
       "      <th>product_line</th>\n",
       "      <th>product_class</th>\n",
       "      <th>product_size</th>\n",
       "      <th>list_price</th>\n",
       "      <th>standard_cost</th>\n",
       "      <th>product_first_sold_date</th>\n",
       "    </tr>\n",
       "  </thead>\n",
       "  <tbody>\n",
       "    <tr>\n",
       "      <th>3547</th>\n",
       "      <td>3548</td>\n",
       "      <td>35</td>\n",
       "      <td>3448</td>\n",
       "      <td>2017-11-11</td>\n",
       "      <td>1.0</td>\n",
       "      <td>Approved</td>\n",
       "      <td>Giant Bicycles</td>\n",
       "      <td>Standard</td>\n",
       "      <td>medium</td>\n",
       "      <td>medium</td>\n",
       "      <td>1403.50</td>\n",
       "      <td>954.82</td>\n",
       "      <td>42688.0</td>\n",
       "    </tr>\n",
       "    <tr>\n",
       "      <th>12419</th>\n",
       "      <td>12420</td>\n",
       "      <td>88</td>\n",
       "      <td>1395</td>\n",
       "      <td>2017-02-25</td>\n",
       "      <td>0.0</td>\n",
       "      <td>Approved</td>\n",
       "      <td>Norco Bicycles</td>\n",
       "      <td>Standard</td>\n",
       "      <td>high</td>\n",
       "      <td>small</td>\n",
       "      <td>1661.92</td>\n",
       "      <td>1479.11</td>\n",
       "      <td>34244.0</td>\n",
       "    </tr>\n",
       "    <tr>\n",
       "      <th>18873</th>\n",
       "      <td>18874</td>\n",
       "      <td>37</td>\n",
       "      <td>626</td>\n",
       "      <td>2017-09-15</td>\n",
       "      <td>1.0</td>\n",
       "      <td>Approved</td>\n",
       "      <td>OHM Cycles</td>\n",
       "      <td>Standard</td>\n",
       "      <td>low</td>\n",
       "      <td>medium</td>\n",
       "      <td>1793.43</td>\n",
       "      <td>248.82</td>\n",
       "      <td>36361.0</td>\n",
       "    </tr>\n",
       "    <tr>\n",
       "      <th>12051</th>\n",
       "      <td>12052</td>\n",
       "      <td>10</td>\n",
       "      <td>2424</td>\n",
       "      <td>2017-09-02</td>\n",
       "      <td>0.0</td>\n",
       "      <td>Approved</td>\n",
       "      <td>WeareA2B</td>\n",
       "      <td>Touring</td>\n",
       "      <td>medium</td>\n",
       "      <td>medium</td>\n",
       "      <td>1466.68</td>\n",
       "      <td>363.25</td>\n",
       "      <td>41701.0</td>\n",
       "    </tr>\n",
       "    <tr>\n",
       "      <th>14330</th>\n",
       "      <td>14331</td>\n",
       "      <td>69</td>\n",
       "      <td>1592</td>\n",
       "      <td>2017-06-26</td>\n",
       "      <td>0.0</td>\n",
       "      <td>Approved</td>\n",
       "      <td>Giant Bicycles</td>\n",
       "      <td>Road</td>\n",
       "      <td>medium</td>\n",
       "      <td>medium</td>\n",
       "      <td>792.90</td>\n",
       "      <td>594.68</td>\n",
       "      <td>42710.0</td>\n",
       "    </tr>\n",
       "  </tbody>\n",
       "</table>\n",
       "</div>"
      ],
      "text/plain": [
       "       transaction_id  product_id  customer_id transaction_date  online_order  \\\n",
       "3547             3548          35         3448       2017-11-11           1.0   \n",
       "12419           12420          88         1395       2017-02-25           0.0   \n",
       "18873           18874          37          626       2017-09-15           1.0   \n",
       "12051           12052          10         2424       2017-09-02           0.0   \n",
       "14330           14331          69         1592       2017-06-26           0.0   \n",
       "\n",
       "      order_status           brand product_line product_class product_size  \\\n",
       "3547      Approved  Giant Bicycles     Standard        medium       medium   \n",
       "12419     Approved  Norco Bicycles     Standard          high        small   \n",
       "18873     Approved      OHM Cycles     Standard           low       medium   \n",
       "12051     Approved        WeareA2B      Touring        medium       medium   \n",
       "14330     Approved  Giant Bicycles         Road        medium       medium   \n",
       "\n",
       "       list_price  standard_cost  product_first_sold_date  \n",
       "3547      1403.50         954.82                  42688.0  \n",
       "12419     1661.92        1479.11                  34244.0  \n",
       "18873     1793.43         248.82                  36361.0  \n",
       "12051     1466.68         363.25                  41701.0  \n",
       "14330      792.90         594.68                  42710.0  "
      ]
     },
     "execution_count": 17,
     "metadata": {},
     "output_type": "execute_result"
    }
   ],
   "source": [
    "transaction.sample(5)"
   ]
  },
  {
   "cell_type": "code",
   "execution_count": 18,
   "id": "b28f6799-e51e-43e1-a5dd-127251862915",
   "metadata": {},
   "outputs": [],
   "source": [
    "# adding a profit column\n",
    "transaction['Profit'] = transaction.list_price - transaction.standard_cost"
   ]
  },
  {
   "cell_type": "code",
   "execution_count": 19,
   "id": "3f4f05e2-ac71-49a2-87c4-efdb88e48dd1",
   "metadata": {},
   "outputs": [
    {
     "data": {
      "text/html": [
       "<div>\n",
       "<style scoped>\n",
       "    .dataframe tbody tr th:only-of-type {\n",
       "        vertical-align: middle;\n",
       "    }\n",
       "\n",
       "    .dataframe tbody tr th {\n",
       "        vertical-align: top;\n",
       "    }\n",
       "\n",
       "    .dataframe thead th {\n",
       "        text-align: right;\n",
       "    }\n",
       "</style>\n",
       "<table border=\"1\" class=\"dataframe\">\n",
       "  <thead>\n",
       "    <tr style=\"text-align: right;\">\n",
       "      <th></th>\n",
       "      <th>transaction_id</th>\n",
       "      <th>product_id</th>\n",
       "      <th>customer_id</th>\n",
       "      <th>transaction_date</th>\n",
       "      <th>online_order</th>\n",
       "      <th>order_status</th>\n",
       "      <th>brand</th>\n",
       "      <th>product_line</th>\n",
       "      <th>product_class</th>\n",
       "      <th>product_size</th>\n",
       "      <th>list_price</th>\n",
       "      <th>standard_cost</th>\n",
       "      <th>product_first_sold_date</th>\n",
       "      <th>Profit</th>\n",
       "    </tr>\n",
       "  </thead>\n",
       "  <tbody>\n",
       "    <tr>\n",
       "      <th>5196</th>\n",
       "      <td>5197</td>\n",
       "      <td>87</td>\n",
       "      <td>2697</td>\n",
       "      <td>2017-09-21</td>\n",
       "      <td>1.0</td>\n",
       "      <td>Approved</td>\n",
       "      <td>OHM Cycles</td>\n",
       "      <td>Standard</td>\n",
       "      <td>medium</td>\n",
       "      <td>medium</td>\n",
       "      <td>1636.90</td>\n",
       "      <td>44.71</td>\n",
       "      <td>40410.0</td>\n",
       "      <td>1592.19</td>\n",
       "    </tr>\n",
       "    <tr>\n",
       "      <th>10137</th>\n",
       "      <td>10138</td>\n",
       "      <td>71</td>\n",
       "      <td>3202</td>\n",
       "      <td>2017-12-19</td>\n",
       "      <td>0.0</td>\n",
       "      <td>Approved</td>\n",
       "      <td>Solex</td>\n",
       "      <td>Standard</td>\n",
       "      <td>high</td>\n",
       "      <td>large</td>\n",
       "      <td>1842.92</td>\n",
       "      <td>1105.75</td>\n",
       "      <td>40553.0</td>\n",
       "      <td>737.17</td>\n",
       "    </tr>\n",
       "    <tr>\n",
       "      <th>13947</th>\n",
       "      <td>13948</td>\n",
       "      <td>59</td>\n",
       "      <td>1799</td>\n",
       "      <td>2017-11-01</td>\n",
       "      <td>1.0</td>\n",
       "      <td>Approved</td>\n",
       "      <td>Solex</td>\n",
       "      <td>Standard</td>\n",
       "      <td>medium</td>\n",
       "      <td>large</td>\n",
       "      <td>1061.56</td>\n",
       "      <td>733.58</td>\n",
       "      <td>34170.0</td>\n",
       "      <td>327.98</td>\n",
       "    </tr>\n",
       "    <tr>\n",
       "      <th>17563</th>\n",
       "      <td>17564</td>\n",
       "      <td>22</td>\n",
       "      <td>1451</td>\n",
       "      <td>2017-03-10</td>\n",
       "      <td>1.0</td>\n",
       "      <td>Approved</td>\n",
       "      <td>WeareA2B</td>\n",
       "      <td>Standard</td>\n",
       "      <td>medium</td>\n",
       "      <td>medium</td>\n",
       "      <td>60.34</td>\n",
       "      <td>45.26</td>\n",
       "      <td>40670.0</td>\n",
       "      <td>15.08</td>\n",
       "    </tr>\n",
       "    <tr>\n",
       "      <th>3272</th>\n",
       "      <td>3273</td>\n",
       "      <td>0</td>\n",
       "      <td>1731</td>\n",
       "      <td>2017-10-25</td>\n",
       "      <td>1.0</td>\n",
       "      <td>Approved</td>\n",
       "      <td>Trek Bicycles</td>\n",
       "      <td>Standard</td>\n",
       "      <td>medium</td>\n",
       "      <td>medium</td>\n",
       "      <td>499.53</td>\n",
       "      <td>388.72</td>\n",
       "      <td>33552.0</td>\n",
       "      <td>110.81</td>\n",
       "    </tr>\n",
       "  </tbody>\n",
       "</table>\n",
       "</div>"
      ],
      "text/plain": [
       "       transaction_id  product_id  customer_id transaction_date  online_order  \\\n",
       "5196             5197          87         2697       2017-09-21           1.0   \n",
       "10137           10138          71         3202       2017-12-19           0.0   \n",
       "13947           13948          59         1799       2017-11-01           1.0   \n",
       "17563           17564          22         1451       2017-03-10           1.0   \n",
       "3272             3273           0         1731       2017-10-25           1.0   \n",
       "\n",
       "      order_status          brand product_line product_class product_size  \\\n",
       "5196      Approved     OHM Cycles     Standard        medium       medium   \n",
       "10137     Approved          Solex     Standard          high        large   \n",
       "13947     Approved          Solex     Standard        medium        large   \n",
       "17563     Approved       WeareA2B     Standard        medium       medium   \n",
       "3272      Approved  Trek Bicycles     Standard        medium       medium   \n",
       "\n",
       "       list_price  standard_cost  product_first_sold_date   Profit  \n",
       "5196      1636.90          44.71                  40410.0  1592.19  \n",
       "10137     1842.92        1105.75                  40553.0   737.17  \n",
       "13947     1061.56         733.58                  34170.0   327.98  \n",
       "17563       60.34          45.26                  40670.0    15.08  \n",
       "3272       499.53         388.72                  33552.0   110.81  "
      ]
     },
     "execution_count": 19,
     "metadata": {},
     "output_type": "execute_result"
    }
   ],
   "source": [
    "transaction.sample(5)"
   ]
  },
  {
   "cell_type": "code",
   "execution_count": 20,
   "id": "094167d6-29c9-443c-aec1-a8e7129ef945",
   "metadata": {},
   "outputs": [],
   "source": [
    "# dropping first sold date as it doesn't make any sense\n",
    "transaction.drop(columns='product_first_sold_date', inplace=True)"
   ]
  },
  {
   "cell_type": "code",
   "execution_count": 22,
   "id": "ae15529a-485f-4809-ab11-d7face3b98ea",
   "metadata": {},
   "outputs": [],
   "source": [
    "# saving as excel\n",
    "transaction.to_excel(r'C:\\Users\\Mayank\\Downloads\\Transaction.xlsx', index=False)"
   ]
  }
 ],
 "metadata": {
  "kernelspec": {
   "display_name": "Python 3 (ipykernel)",
   "language": "python",
   "name": "python3"
  },
  "language_info": {
   "codemirror_mode": {
    "name": "ipython",
    "version": 3
   },
   "file_extension": ".py",
   "mimetype": "text/x-python",
   "name": "python",
   "nbconvert_exporter": "python",
   "pygments_lexer": "ipython3",
   "version": "3.9.12"
  }
 },
 "nbformat": 4,
 "nbformat_minor": 5
}
