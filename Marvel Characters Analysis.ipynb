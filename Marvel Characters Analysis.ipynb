{
 "cells": [
  {
   "cell_type": "code",
   "execution_count": 41,
   "id": "4ea6ba66-d179-486e-97a9-cd1ed99dbb36",
   "metadata": {},
   "outputs": [],
   "source": [
    "import numpy as np\n",
    "import pandas as pd\n",
    "import matplotlib.pyplot as plt"
   ]
  },
  {
   "cell_type": "code",
   "execution_count": 42,
   "id": "1c895521-b04a-495d-b869-45693efe5a3f",
   "metadata": {},
   "outputs": [],
   "source": [
    "gdp_data_url = 'https://raw.githubusercontent.com/fivethirtyeight/data/master/comic-characters/marvel-wikia-data.csv'"
   ]
  },
  {
   "cell_type": "code",
   "execution_count": 43,
   "id": "810dcbfb-977e-4275-b9ca-e32b7de68798",
   "metadata": {},
   "outputs": [],
   "source": [
    "# reading table from the url\n",
    "marvel = pd.read_csv(gdp_data_url)"
   ]
  },
  {
   "cell_type": "code",
   "execution_count": 44,
   "id": "bf174303-3bb7-4b9c-85ae-d8425e3dafdf",
   "metadata": {},
   "outputs": [
    {
     "data": {
      "text/html": [
       "<div>\n",
       "<style scoped>\n",
       "    .dataframe tbody tr th:only-of-type {\n",
       "        vertical-align: middle;\n",
       "    }\n",
       "\n",
       "    .dataframe tbody tr th {\n",
       "        vertical-align: top;\n",
       "    }\n",
       "\n",
       "    .dataframe thead th {\n",
       "        text-align: right;\n",
       "    }\n",
       "</style>\n",
       "<table border=\"1\" class=\"dataframe\">\n",
       "  <thead>\n",
       "    <tr style=\"text-align: right;\">\n",
       "      <th></th>\n",
       "      <th>page_id</th>\n",
       "      <th>name</th>\n",
       "      <th>urlslug</th>\n",
       "      <th>ID</th>\n",
       "      <th>ALIGN</th>\n",
       "      <th>EYE</th>\n",
       "      <th>HAIR</th>\n",
       "      <th>SEX</th>\n",
       "      <th>GSM</th>\n",
       "      <th>ALIVE</th>\n",
       "      <th>APPEARANCES</th>\n",
       "      <th>FIRST APPEARANCE</th>\n",
       "      <th>Year</th>\n",
       "    </tr>\n",
       "  </thead>\n",
       "  <tbody>\n",
       "    <tr>\n",
       "      <th>9697</th>\n",
       "      <td>706055</td>\n",
       "      <td>Ape-Man (Earth-616)</td>\n",
       "      <td>\\/Ape-Man_(Earth-616)</td>\n",
       "      <td>Secret Identity</td>\n",
       "      <td>Bad Characters</td>\n",
       "      <td>NaN</td>\n",
       "      <td>NaN</td>\n",
       "      <td>Male Characters</td>\n",
       "      <td>NaN</td>\n",
       "      <td>Living Characters</td>\n",
       "      <td>2.0</td>\n",
       "      <td>Apr-97</td>\n",
       "      <td>1997.0</td>\n",
       "    </tr>\n",
       "    <tr>\n",
       "      <th>15843</th>\n",
       "      <td>13220</td>\n",
       "      <td>Jane Melville (Earth-616)</td>\n",
       "      <td>\\/Jane_Melville_(Earth-616)</td>\n",
       "      <td>Secret Identity</td>\n",
       "      <td>Good Characters</td>\n",
       "      <td>NaN</td>\n",
       "      <td>NaN</td>\n",
       "      <td>Female Characters</td>\n",
       "      <td>NaN</td>\n",
       "      <td>Living Characters</td>\n",
       "      <td>NaN</td>\n",
       "      <td>Apr-96</td>\n",
       "      <td>1996.0</td>\n",
       "    </tr>\n",
       "    <tr>\n",
       "      <th>1653</th>\n",
       "      <td>1269</td>\n",
       "      <td>Calypso Ezili (Earth-616)</td>\n",
       "      <td>\\/Calypso_Ezili_(Earth-616)</td>\n",
       "      <td>Public Identity</td>\n",
       "      <td>Bad Characters</td>\n",
       "      <td>Brown Eyes</td>\n",
       "      <td>Black Hair</td>\n",
       "      <td>Female Characters</td>\n",
       "      <td>NaN</td>\n",
       "      <td>Deceased Characters</td>\n",
       "      <td>22.0</td>\n",
       "      <td>Oct-80</td>\n",
       "      <td>1980.0</td>\n",
       "    </tr>\n",
       "    <tr>\n",
       "      <th>15532</th>\n",
       "      <td>62353</td>\n",
       "      <td>Juliette D'Angelo (Earth-616)</td>\n",
       "      <td>\\/Juliette_D%27Angelo_(Earth-616)</td>\n",
       "      <td>NaN</td>\n",
       "      <td>NaN</td>\n",
       "      <td>NaN</td>\n",
       "      <td>NaN</td>\n",
       "      <td>Female Characters</td>\n",
       "      <td>NaN</td>\n",
       "      <td>Living Characters</td>\n",
       "      <td>NaN</td>\n",
       "      <td>Dec-81</td>\n",
       "      <td>1981.0</td>\n",
       "    </tr>\n",
       "    <tr>\n",
       "      <th>6073</th>\n",
       "      <td>36082</td>\n",
       "      <td>Burning Snake (Earth-616)</td>\n",
       "      <td>\\/Burning_Snake_(Earth-616)</td>\n",
       "      <td>NaN</td>\n",
       "      <td>NaN</td>\n",
       "      <td>NaN</td>\n",
       "      <td>NaN</td>\n",
       "      <td>NaN</td>\n",
       "      <td>NaN</td>\n",
       "      <td>Living Characters</td>\n",
       "      <td>4.0</td>\n",
       "      <td>May-76</td>\n",
       "      <td>1976.0</td>\n",
       "    </tr>\n",
       "  </tbody>\n",
       "</table>\n",
       "</div>"
      ],
      "text/plain": [
       "       page_id                           name  \\\n",
       "9697    706055            Ape-Man (Earth-616)   \n",
       "15843    13220      Jane Melville (Earth-616)   \n",
       "1653      1269      Calypso Ezili (Earth-616)   \n",
       "15532    62353  Juliette D'Angelo (Earth-616)   \n",
       "6073     36082      Burning Snake (Earth-616)   \n",
       "\n",
       "                                 urlslug               ID            ALIGN  \\\n",
       "9697               \\/Ape-Man_(Earth-616)  Secret Identity   Bad Characters   \n",
       "15843        \\/Jane_Melville_(Earth-616)  Secret Identity  Good Characters   \n",
       "1653         \\/Calypso_Ezili_(Earth-616)  Public Identity   Bad Characters   \n",
       "15532  \\/Juliette_D%27Angelo_(Earth-616)              NaN              NaN   \n",
       "6073         \\/Burning_Snake_(Earth-616)              NaN              NaN   \n",
       "\n",
       "              EYE        HAIR                SEX  GSM                ALIVE  \\\n",
       "9697          NaN         NaN    Male Characters  NaN    Living Characters   \n",
       "15843         NaN         NaN  Female Characters  NaN    Living Characters   \n",
       "1653   Brown Eyes  Black Hair  Female Characters  NaN  Deceased Characters   \n",
       "15532         NaN         NaN  Female Characters  NaN    Living Characters   \n",
       "6073          NaN         NaN                NaN  NaN    Living Characters   \n",
       "\n",
       "       APPEARANCES FIRST APPEARANCE    Year  \n",
       "9697           2.0           Apr-97  1997.0  \n",
       "15843          NaN           Apr-96  1996.0  \n",
       "1653          22.0           Oct-80  1980.0  \n",
       "15532          NaN           Dec-81  1981.0  \n",
       "6073           4.0           May-76  1976.0  "
      ]
     },
     "execution_count": 44,
     "metadata": {},
     "output_type": "execute_result"
    }
   ],
   "source": [
    "# reading a sample of marvel DF\n",
    "marvel.sample(5)"
   ]
  },
  {
   "cell_type": "code",
   "execution_count": 45,
   "id": "dfaf712a-054e-40b7-99b5-0d1637399ffe",
   "metadata": {},
   "outputs": [],
   "source": [
    "# converting all labels to lowercase and removing whitespace in between\n",
    "marvel.columns = [col.lower() for col in marvel.columns.tolist()]\n",
    "marvel.columns = [col.replace(' ', '_') for col in marvel.columns.tolist()]"
   ]
  },
  {
   "cell_type": "code",
   "execution_count": 46,
   "id": "00bfb4c7-639c-4d8d-b8ec-57eb3f24c4ef",
   "metadata": {
    "tags": []
   },
   "outputs": [
    {
     "data": {
      "text/plain": [
       "page_id             False\n",
       "name                False\n",
       "urlslug             False\n",
       "id                   True\n",
       "align                True\n",
       "eye                  True\n",
       "hair                 True\n",
       "sex                  True\n",
       "gsm                  True\n",
       "alive                True\n",
       "appearances          True\n",
       "first_appearance     True\n",
       "year                 True\n",
       "dtype: bool"
      ]
     },
     "execution_count": 46,
     "metadata": {},
     "output_type": "execute_result"
    }
   ],
   "source": [
    "# checking for presesnce of NaN's in all columns\n",
    "marvel.isna().any()"
   ]
  },
  {
   "cell_type": "code",
   "execution_count": 47,
   "id": "546f138d-2d43-487b-a5d2-b16f1ef91b30",
   "metadata": {},
   "outputs": [],
   "source": [
    "# handling NaN's in object type columnns\n",
    "marvel.loc[:,['id', 'align', 'eye', 'hair', 'sex', 'gsm', 'alive', 'first_appearance']] = marvel.loc[:,\n",
    "            ['id', 'align', 'eye', 'hair', 'sex', 'gsm', 'alive', 'first_appearance']].fillna('Unknown')"
   ]
  },
  {
   "cell_type": "code",
   "execution_count": 48,
   "id": "493869f5-edd7-4491-9dd7-cc04bdcc138a",
   "metadata": {
    "tags": []
   },
   "outputs": [],
   "source": [
    "# handling NaN's in float type column\n",
    "marvel.loc[:,['appearances', 'year']] = marvel.fillna({'appearances': np.abs(np.mean(marvel.appearances)), \n",
    "                                                       'year': np.abs(np.mean(marvel.year))})"
   ]
  },
  {
   "cell_type": "code",
   "execution_count": 49,
   "id": "48280dec-a359-4fe2-bc1e-0467cedc6dbf",
   "metadata": {},
   "outputs": [
    {
     "data": {
      "text/plain": [
       "page_id             False\n",
       "name                False\n",
       "urlslug             False\n",
       "id                  False\n",
       "align               False\n",
       "eye                 False\n",
       "hair                False\n",
       "sex                 False\n",
       "gsm                 False\n",
       "alive               False\n",
       "appearances         False\n",
       "first_appearance    False\n",
       "year                False\n",
       "dtype: bool"
      ]
     },
     "execution_count": 49,
     "metadata": {},
     "output_type": "execute_result"
    }
   ],
   "source": [
    "# checking for presesnce of NaN's in all columns\n",
    "marvel.isna().any()"
   ]
  },
  {
   "cell_type": "code",
   "execution_count": 50,
   "id": "85d7a50d-1fdc-4838-aaa6-8e59efc79f8b",
   "metadata": {},
   "outputs": [
    {
     "data": {
      "text/html": [
       "<div>\n",
       "<style scoped>\n",
       "    .dataframe tbody tr th:only-of-type {\n",
       "        vertical-align: middle;\n",
       "    }\n",
       "\n",
       "    .dataframe tbody tr th {\n",
       "        vertical-align: top;\n",
       "    }\n",
       "\n",
       "    .dataframe thead th {\n",
       "        text-align: right;\n",
       "    }\n",
       "</style>\n",
       "<table border=\"1\" class=\"dataframe\">\n",
       "  <thead>\n",
       "    <tr style=\"text-align: right;\">\n",
       "      <th></th>\n",
       "      <th>page_id</th>\n",
       "      <th>name</th>\n",
       "      <th>urlslug</th>\n",
       "      <th>id</th>\n",
       "      <th>align</th>\n",
       "      <th>eye</th>\n",
       "      <th>hair</th>\n",
       "      <th>sex</th>\n",
       "      <th>gsm</th>\n",
       "      <th>alive</th>\n",
       "      <th>appearances</th>\n",
       "      <th>first_appearance</th>\n",
       "      <th>year</th>\n",
       "    </tr>\n",
       "  </thead>\n",
       "  <tbody>\n",
       "    <tr>\n",
       "      <th>6819</th>\n",
       "      <td>341464</td>\n",
       "      <td>Ahmed Noor (Earth-616)</td>\n",
       "      <td>\\/Ahmed_Noor_(Earth-616)</td>\n",
       "      <td>Secret Identity</td>\n",
       "      <td>Good Characters</td>\n",
       "      <td>Brown Eyes</td>\n",
       "      <td>Black Hair</td>\n",
       "      <td>Male Characters</td>\n",
       "      <td>Unknown</td>\n",
       "      <td>Living Characters</td>\n",
       "      <td>4.0</td>\n",
       "      <td>Aug-10</td>\n",
       "      <td>2010.0</td>\n",
       "    </tr>\n",
       "    <tr>\n",
       "      <th>2730</th>\n",
       "      <td>19664</td>\n",
       "      <td>Flexo (Earth-616)</td>\n",
       "      <td>\\/Flexo_(Earth-616)</td>\n",
       "      <td>Secret Identity</td>\n",
       "      <td>Good Characters</td>\n",
       "      <td>Black Eyes</td>\n",
       "      <td>No Hair</td>\n",
       "      <td>Unknown</td>\n",
       "      <td>Unknown</td>\n",
       "      <td>Deceased Characters</td>\n",
       "      <td>12.0</td>\n",
       "      <td>Mar-40</td>\n",
       "      <td>1940.0</td>\n",
       "    </tr>\n",
       "    <tr>\n",
       "      <th>14782</th>\n",
       "      <td>300930</td>\n",
       "      <td>Karl (Earth-616)</td>\n",
       "      <td>\\/Karl_(Earth-616)</td>\n",
       "      <td>No Dual Identity</td>\n",
       "      <td>Bad Characters</td>\n",
       "      <td>Blue Eyes</td>\n",
       "      <td>Brown Hair</td>\n",
       "      <td>Male Characters</td>\n",
       "      <td>Unknown</td>\n",
       "      <td>Living Characters</td>\n",
       "      <td>1.0</td>\n",
       "      <td>Jan-10</td>\n",
       "      <td>2010.0</td>\n",
       "    </tr>\n",
       "    <tr>\n",
       "      <th>2563</th>\n",
       "      <td>1687</td>\n",
       "      <td>Yuri Topolov (Earth-616)</td>\n",
       "      <td>\\/Yuri_Topolov_(Earth-616)</td>\n",
       "      <td>Secret Identity</td>\n",
       "      <td>Neutral Characters</td>\n",
       "      <td>Blue Eyes</td>\n",
       "      <td>Bald</td>\n",
       "      <td>Male Characters</td>\n",
       "      <td>Unknown</td>\n",
       "      <td>Deceased Characters</td>\n",
       "      <td>13.0</td>\n",
       "      <td>May-62</td>\n",
       "      <td>1962.0</td>\n",
       "    </tr>\n",
       "    <tr>\n",
       "      <th>4021</th>\n",
       "      <td>704492</td>\n",
       "      <td>Ben Yarby (Shotgun City) (Earth-616)</td>\n",
       "      <td>\\/Ben_Yarby_(Shotgun_City)_(Earth-616)</td>\n",
       "      <td>No Dual Identity</td>\n",
       "      <td>Good Characters</td>\n",
       "      <td>Unknown</td>\n",
       "      <td>Brown Hair</td>\n",
       "      <td>Male Characters</td>\n",
       "      <td>Unknown</td>\n",
       "      <td>Living Characters</td>\n",
       "      <td>7.0</td>\n",
       "      <td>Sep-56</td>\n",
       "      <td>1956.0</td>\n",
       "    </tr>\n",
       "  </tbody>\n",
       "</table>\n",
       "</div>"
      ],
      "text/plain": [
       "       page_id                                  name  \\\n",
       "6819    341464                Ahmed Noor (Earth-616)   \n",
       "2730     19664                     Flexo (Earth-616)   \n",
       "14782   300930                      Karl (Earth-616)   \n",
       "2563      1687              Yuri Topolov (Earth-616)   \n",
       "4021    704492  Ben Yarby (Shotgun City) (Earth-616)   \n",
       "\n",
       "                                      urlslug                id  \\\n",
       "6819                 \\/Ahmed_Noor_(Earth-616)   Secret Identity   \n",
       "2730                      \\/Flexo_(Earth-616)   Secret Identity   \n",
       "14782                      \\/Karl_(Earth-616)  No Dual Identity   \n",
       "2563               \\/Yuri_Topolov_(Earth-616)   Secret Identity   \n",
       "4021   \\/Ben_Yarby_(Shotgun_City)_(Earth-616)  No Dual Identity   \n",
       "\n",
       "                    align         eye        hair              sex      gsm  \\\n",
       "6819      Good Characters  Brown Eyes  Black Hair  Male Characters  Unknown   \n",
       "2730      Good Characters  Black Eyes     No Hair          Unknown  Unknown   \n",
       "14782      Bad Characters   Blue Eyes  Brown Hair  Male Characters  Unknown   \n",
       "2563   Neutral Characters   Blue Eyes        Bald  Male Characters  Unknown   \n",
       "4021      Good Characters     Unknown  Brown Hair  Male Characters  Unknown   \n",
       "\n",
       "                     alive  appearances first_appearance    year  \n",
       "6819     Living Characters          4.0           Aug-10  2010.0  \n",
       "2730   Deceased Characters         12.0           Mar-40  1940.0  \n",
       "14782    Living Characters          1.0           Jan-10  2010.0  \n",
       "2563   Deceased Characters         13.0           May-62  1962.0  \n",
       "4021     Living Characters          7.0           Sep-56  1956.0  "
      ]
     },
     "execution_count": 50,
     "metadata": {},
     "output_type": "execute_result"
    }
   ],
   "source": [
    "# reading a sample of marvel DF\n",
    "marvel.sample(5)"
   ]
  },
  {
   "cell_type": "code",
   "execution_count": 51,
   "id": "1caf4ff7-2d3e-4f34-a547-bd6dcd73e768",
   "metadata": {},
   "outputs": [
    {
     "data": {
      "text/plain": [
       "Text(0.5, 1.0, 'Gender Distribution')"
      ]
     },
     "execution_count": 51,
     "metadata": {},
     "output_type": "execute_result"
    },
    {
     "data": {
      "image/png": "[encoded data removed]",
      "text/plain": [
       "<Figure size 432x288 with 1 Axes>"
      ]
     },
     "metadata": {},
     "output_type": "display_data"
    }
   ],
   "source": [
    "# gender distribution in MCU\n",
    "marvel.sex.value_counts()\n",
    "_ = plt.pie(marvel.sex.value_counts(), shadow=True)\n",
    "_ = plt.legend(marvel.sex.unique())\n",
    "plt.title('Gender Distribution')"
   ]
  },
  {
   "cell_type": "code",
   "execution_count": 52,
   "id": "d88ffb9d-2d88-4b77-941a-0fc4803c5f8f",
   "metadata": {},
   "outputs": [
    {
     "data": {
      "text/plain": [
       "sex\n",
       "Agender Characters           877.0\n",
       "Female Characters          77059.0\n",
       "Genderfluid Characters       565.0\n",
       "Male Characters           195189.0\n",
       "Unknown                     5249.0\n",
       "Name: appearances, dtype: float64"
      ]
     },
     "execution_count": 52,
     "metadata": {},
     "output_type": "execute_result"
    }
   ],
   "source": [
    "# gender-wise number of appearances\n",
    "gender_appear = np.round(marvel.groupby('sex').appearances.sum())\n",
    "gender_appear"
   ]
  },
  {
   "cell_type": "code",
   "execution_count": 53,
   "id": "75c8cd35-6183-462f-9c9e-bf0ca61017c1",
   "metadata": {},
   "outputs": [
    {
     "data": {
      "image/png": "[encoded data removed]",
      "text/plain": [
       "<Figure size 432x288 with 1 Axes>"
      ]
     },
     "metadata": {
      "needs_background": "light"
     },
     "output_type": "display_data"
    }
   ],
   "source": [
    "_ = plt.scatter(gender_appear.index, gender_appear, s=gender_appear/50, alpha=0.5)\n",
    "_ = plt.title('Gender-wise number of appearances')"
   ]
  },
  {
   "cell_type": "code",
   "execution_count": 54,
   "id": "972cd3ea-69cf-4692-b2e3-49f1282b0a73",
   "metadata": {},
   "outputs": [
    {
     "data": {
      "text/html": [
       "<div>\n",
       "<style scoped>\n",
       "    .dataframe tbody tr th:only-of-type {\n",
       "        vertical-align: middle;\n",
       "    }\n",
       "\n",
       "    .dataframe tbody tr th {\n",
       "        vertical-align: top;\n",
       "    }\n",
       "\n",
       "    .dataframe thead th {\n",
       "        text-align: right;\n",
       "    }\n",
       "</style>\n",
       "<table border=\"1\" class=\"dataframe\">\n",
       "  <thead>\n",
       "    <tr style=\"text-align: right;\">\n",
       "      <th>id</th>\n",
       "      <th>Known to Authorities Identity</th>\n",
       "      <th>No Dual Identity</th>\n",
       "      <th>Public Identity</th>\n",
       "      <th>Secret Identity</th>\n",
       "      <th>Unknown</th>\n",
       "    </tr>\n",
       "    <tr>\n",
       "      <th>sex</th>\n",
       "      <th></th>\n",
       "      <th></th>\n",
       "      <th></th>\n",
       "      <th></th>\n",
       "      <th></th>\n",
       "    </tr>\n",
       "  </thead>\n",
       "  <tbody>\n",
       "    <tr>\n",
       "      <th>Agender Characters</th>\n",
       "      <td>1.0</td>\n",
       "      <td>11.0</td>\n",
       "      <td>5.0</td>\n",
       "      <td>14.0</td>\n",
       "      <td>14.0</td>\n",
       "    </tr>\n",
       "    <tr>\n",
       "      <th>Female Characters</th>\n",
       "      <td>5.0</td>\n",
       "      <td>486.0</td>\n",
       "      <td>1051.0</td>\n",
       "      <td>1505.0</td>\n",
       "      <td>790.0</td>\n",
       "    </tr>\n",
       "    <tr>\n",
       "      <th>Genderfluid Characters</th>\n",
       "      <td>NaN</td>\n",
       "      <td>1.0</td>\n",
       "      <td>NaN</td>\n",
       "      <td>1.0</td>\n",
       "      <td>NaN</td>\n",
       "    </tr>\n",
       "    <tr>\n",
       "      <th>Male Characters</th>\n",
       "      <td>9.0</td>\n",
       "      <td>1246.0</td>\n",
       "      <td>3367.0</td>\n",
       "      <td>4506.0</td>\n",
       "      <td>2510.0</td>\n",
       "    </tr>\n",
       "    <tr>\n",
       "      <th>Unknown</th>\n",
       "      <td>NaN</td>\n",
       "      <td>44.0</td>\n",
       "      <td>105.0</td>\n",
       "      <td>249.0</td>\n",
       "      <td>456.0</td>\n",
       "    </tr>\n",
       "  </tbody>\n",
       "</table>\n",
       "</div>"
      ],
      "text/plain": [
       "id                      Known to Authorities Identity  No Dual Identity  \\\n",
       "sex                                                                       \n",
       "Agender Characters                                1.0              11.0   \n",
       "Female Characters                                 5.0             486.0   \n",
       "Genderfluid Characters                            NaN               1.0   \n",
       "Male Characters                                   9.0            1246.0   \n",
       "Unknown                                           NaN              44.0   \n",
       "\n",
       "id                      Public Identity  Secret Identity  Unknown  \n",
       "sex                                                                \n",
       "Agender Characters                  5.0             14.0     14.0  \n",
       "Female Characters                1051.0           1505.0    790.0  \n",
       "Genderfluid Characters              NaN              1.0      NaN  \n",
       "Male Characters                  3367.0           4506.0   2510.0  \n",
       "Unknown                           105.0            249.0    456.0  "
      ]
     },
     "execution_count": 54,
     "metadata": {},
     "output_type": "execute_result"
    }
   ],
   "source": [
    "# gender-wise identity distribution\n",
    "gender_id = marvel.groupby('sex').id.value_counts()\n",
    "gender_id.name = 'count'\n",
    "gender_id = gender_id.reset_index()\n",
    "gender_id = gender_id.pivot(index='sex', columns= 'id', values='count')\n",
    "gender_id"
   ]
  },
  {
   "cell_type": "code",
   "execution_count": 55,
   "id": "b6ff4dcc-643b-4de6-908f-b2df8781cbb7",
   "metadata": {},
   "outputs": [
    {
     "data": {
      "image/png": "[encoded data removed]",
      "text/plain": [
       "<Figure size 432x288 with 1 Axes>"
      ]
     },
     "metadata": {
      "needs_background": "light"
     },
     "output_type": "display_data"
    }
   ],
   "source": [
    "_ = gender_id.plot(kind='bar', title='Gender-wise identity distribution')"
   ]
  }
 ],
 "metadata": {
  "kernelspec": {
   "display_name": "Python 3 (ipykernel)",
   "language": "python",
   "name": "python3"
  },
  "language_info": {
   "codemirror_mode": {
    "name": "ipython",
    "version": 3
   },
   "file_extension": ".py",
   "mimetype": "text/x-python",
   "name": "python",
   "nbconvert_exporter": "python",
   "pygments_lexer": "ipython3",
   "version": "3.9.12"
  }
 },
 "nbformat": 4,
 "nbformat_minor": 5
}
