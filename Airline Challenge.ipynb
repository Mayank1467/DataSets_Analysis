{
 "cells": [
  {
   "cell_type": "code",
   "execution_count": 7,
   "id": "6884b6e8-a59e-4001-8e63-dd03e53c7100",
   "metadata": {},
   "outputs": [],
   "source": [
    "import numpy as np\n",
    "import pandas as pd\n",
    "from datetime import datetime\n",
    "import matplotlib.pyplot as plt"
   ]
  },
  {
   "cell_type": "code",
   "execution_count": 8,
   "id": "ffba2ba5-9f08-424f-87dc-124edc4eb34b",
   "metadata": {},
   "outputs": [],
   "source": [
    "# reading tables"
   ]
  },
  {
   "cell_type": "code",
   "execution_count": 9,
   "id": "1caa6e7f-fb87-4c9b-b3e6-c23d05dd12d8",
   "metadata": {},
   "outputs": [
    {
     "data": {
      "text/html": [
       "<div>\n",
       "<style scoped>\n",
       "    .dataframe tbody tr th:only-of-type {\n",
       "        vertical-align: middle;\n",
       "    }\n",
       "\n",
       "    .dataframe tbody tr th {\n",
       "        vertical-align: top;\n",
       "    }\n",
       "\n",
       "    .dataframe thead th {\n",
       "        text-align: right;\n",
       "    }\n",
       "</style>\n",
       "<table border=\"1\" class=\"dataframe\">\n",
       "  <thead>\n",
       "    <tr style=\"text-align: right;\">\n",
       "      <th></th>\n",
       "      <th>Range (Km)</th>\n",
       "      <th>Ave. Speed (km/h)</th>\n",
       "      <th>Number of Seats</th>\n",
       "      <th>Costs per flight hour</th>\n",
       "    </tr>\n",
       "    <tr>\n",
       "      <th>Aircraft Type</th>\n",
       "      <th></th>\n",
       "      <th></th>\n",
       "      <th></th>\n",
       "      <th></th>\n",
       "    </tr>\n",
       "  </thead>\n",
       "  <tbody>\n",
       "    <tr>\n",
       "      <th>Q400</th>\n",
       "      <td>1500</td>\n",
       "      <td>750</td>\n",
       "      <td>90</td>\n",
       "      <td>3500</td>\n",
       "    </tr>\n",
       "    <tr>\n",
       "      <th>A330</th>\n",
       "      <td>8000</td>\n",
       "      <td>900</td>\n",
       "      <td>250</td>\n",
       "      <td>7500</td>\n",
       "    </tr>\n",
       "    <tr>\n",
       "      <th>B747</th>\n",
       "      <td>10000</td>\n",
       "      <td>900</td>\n",
       "      <td>350</td>\n",
       "      <td>12000</td>\n",
       "    </tr>\n",
       "    <tr>\n",
       "      <th>B737</th>\n",
       "      <td>5000</td>\n",
       "      <td>800</td>\n",
       "      <td>150</td>\n",
       "      <td>5100</td>\n",
       "    </tr>\n",
       "    <tr>\n",
       "      <th>A320</th>\n",
       "      <td>5000</td>\n",
       "      <td>800</td>\n",
       "      <td>150</td>\n",
       "      <td>5000</td>\n",
       "    </tr>\n",
       "  </tbody>\n",
       "</table>\n",
       "</div>"
      ],
      "text/plain": [
       "               Range (Km)  Ave. Speed (km/h)  Number of Seats  \\\n",
       "Aircraft Type                                                   \n",
       "Q400                 1500                750               90   \n",
       "A330                 8000                900              250   \n",
       "B747                10000                900              350   \n",
       "B737                 5000                800              150   \n",
       "A320                 5000                800              150   \n",
       "\n",
       "               Costs per flight hour  \n",
       "Aircraft Type                         \n",
       "Q400                            3500  \n",
       "A330                            7500  \n",
       "B747                           12000  \n",
       "B737                            5100  \n",
       "A320                            5000  "
      ]
     },
     "execution_count": 9,
     "metadata": {},
     "output_type": "execute_result"
    }
   ],
   "source": [
    "ac_details = pd.read_excel('Data Science Case study Vindiata.xls', sheet_name=1, \n",
    "                           header=3, index_col=0,usecols='B:F')\n",
    "ac_details.sample(5)"
   ]
  },
  {
   "cell_type": "code",
   "execution_count": 10,
   "id": "f4b6e963-1b15-4b18-bc4d-5b0f3f342a65",
   "metadata": {},
   "outputs": [
    {
     "data": {
      "text/html": [
       "<div>\n",
       "<style scoped>\n",
       "    .dataframe tbody tr th:only-of-type {\n",
       "        vertical-align: middle;\n",
       "    }\n",
       "\n",
       "    .dataframe tbody tr th {\n",
       "        vertical-align: top;\n",
       "    }\n",
       "\n",
       "    .dataframe thead th {\n",
       "        text-align: right;\n",
       "    }\n",
       "</style>\n",
       "<table border=\"1\" class=\"dataframe\">\n",
       "  <thead>\n",
       "    <tr style=\"text-align: right;\">\n",
       "      <th></th>\n",
       "      <th>Aircraft Name</th>\n",
       "      <th>Aircraft Type</th>\n",
       "      <th>2014-01-01 00:00:00</th>\n",
       "      <th>2014-02-01 00:00:00</th>\n",
       "      <th>2014-03-01 00:00:00</th>\n",
       "      <th>2014-04-01 00:00:00</th>\n",
       "      <th>2014-05-01 00:00:00</th>\n",
       "      <th>2014-06-01 00:00:00</th>\n",
       "      <th>2014-07-01 00:00:00</th>\n",
       "      <th>2014-08-01 00:00:00</th>\n",
       "      <th>2014-09-01 00:00:00</th>\n",
       "      <th>2014-10-01 00:00:00</th>\n",
       "      <th>2014-11-01 00:00:00</th>\n",
       "      <th>2014-12-01 00:00:00</th>\n",
       "    </tr>\n",
       "  </thead>\n",
       "  <tbody>\n",
       "    <tr>\n",
       "      <th>13</th>\n",
       "      <td>N</td>\n",
       "      <td>B737</td>\n",
       "      <td>245</td>\n",
       "      <td>246</td>\n",
       "      <td>243</td>\n",
       "      <td>248</td>\n",
       "      <td>238</td>\n",
       "      <td>240</td>\n",
       "      <td>243</td>\n",
       "      <td>241</td>\n",
       "      <td>251</td>\n",
       "      <td>251</td>\n",
       "      <td>246</td>\n",
       "      <td>247</td>\n",
       "    </tr>\n",
       "    <tr>\n",
       "      <th>9</th>\n",
       "      <td>J</td>\n",
       "      <td>A330</td>\n",
       "      <td>310</td>\n",
       "      <td>311</td>\n",
       "      <td>308</td>\n",
       "      <td>313</td>\n",
       "      <td>303</td>\n",
       "      <td>305</td>\n",
       "      <td>308</td>\n",
       "      <td>306</td>\n",
       "      <td>316</td>\n",
       "      <td>316</td>\n",
       "      <td>311</td>\n",
       "      <td>312</td>\n",
       "    </tr>\n",
       "    <tr>\n",
       "      <th>10</th>\n",
       "      <td>K</td>\n",
       "      <td>B737</td>\n",
       "      <td>250</td>\n",
       "      <td>251</td>\n",
       "      <td>248</td>\n",
       "      <td>253</td>\n",
       "      <td>243</td>\n",
       "      <td>245</td>\n",
       "      <td>248</td>\n",
       "      <td>246</td>\n",
       "      <td>256</td>\n",
       "      <td>256</td>\n",
       "      <td>251</td>\n",
       "      <td>252</td>\n",
       "    </tr>\n",
       "    <tr>\n",
       "      <th>18</th>\n",
       "      <td>S</td>\n",
       "      <td>A330</td>\n",
       "      <td>310</td>\n",
       "      <td>311</td>\n",
       "      <td>308</td>\n",
       "      <td>313</td>\n",
       "      <td>303</td>\n",
       "      <td>305</td>\n",
       "      <td>308</td>\n",
       "      <td>306</td>\n",
       "      <td>316</td>\n",
       "      <td>316</td>\n",
       "      <td>311</td>\n",
       "      <td>312</td>\n",
       "    </tr>\n",
       "    <tr>\n",
       "      <th>15</th>\n",
       "      <td>P</td>\n",
       "      <td>A320</td>\n",
       "      <td>245</td>\n",
       "      <td>246</td>\n",
       "      <td>243</td>\n",
       "      <td>248</td>\n",
       "      <td>238</td>\n",
       "      <td>240</td>\n",
       "      <td>243</td>\n",
       "      <td>241</td>\n",
       "      <td>251</td>\n",
       "      <td>251</td>\n",
       "      <td>246</td>\n",
       "      <td>247</td>\n",
       "    </tr>\n",
       "  </tbody>\n",
       "</table>\n",
       "</div>"
      ],
      "text/plain": [
       "   Aircraft Name Aircraft Type  2014-01-01 00:00:00  2014-02-01 00:00:00  \\\n",
       "13             N          B737                  245                  246   \n",
       "9              J          A330                  310                  311   \n",
       "10             K          B737                  250                  251   \n",
       "18             S          A330                  310                  311   \n",
       "15             P          A320                  245                  246   \n",
       "\n",
       "    2014-03-01 00:00:00  2014-04-01 00:00:00  2014-05-01 00:00:00  \\\n",
       "13                  243                  248                  238   \n",
       "9                   308                  313                  303   \n",
       "10                  248                  253                  243   \n",
       "18                  308                  313                  303   \n",
       "15                  243                  248                  238   \n",
       "\n",
       "    2014-06-01 00:00:00  2014-07-01 00:00:00  2014-08-01 00:00:00  \\\n",
       "13                  240                  243                  241   \n",
       "9                   305                  308                  306   \n",
       "10                  245                  248                  246   \n",
       "18                  305                  308                  306   \n",
       "15                  240                  243                  241   \n",
       "\n",
       "    2014-09-01 00:00:00  2014-10-01 00:00:00  2014-11-01 00:00:00  \\\n",
       "13                  251                  251                  246   \n",
       "9                   316                  316                  311   \n",
       "10                  256                  256                  251   \n",
       "18                  316                  316                  311   \n",
       "15                  251                  251                  246   \n",
       "\n",
       "    2014-12-01 00:00:00  \n",
       "13                  247  \n",
       "9                   312  \n",
       "10                  252  \n",
       "18                  312  \n",
       "15                  247  "
      ]
     },
     "execution_count": 10,
     "metadata": {},
     "output_type": "execute_result"
    }
   ],
   "source": [
    "operations = pd.read_excel('Data Science Case study Vindiata.xls', sheet_name=2, skiprows=3, usecols='B:O')\n",
    "operations.sample(5)"
   ]
  },
  {
   "cell_type": "code",
   "execution_count": 11,
   "id": "49a796f3-9c46-43d6-9376-80b6bf979c37",
   "metadata": {},
   "outputs": [
    {
     "data": {
      "text/html": [
       "<div>\n",
       "<style scoped>\n",
       "    .dataframe tbody tr th:only-of-type {\n",
       "        vertical-align: middle;\n",
       "    }\n",
       "\n",
       "    .dataframe tbody tr th {\n",
       "        vertical-align: top;\n",
       "    }\n",
       "\n",
       "    .dataframe thead th {\n",
       "        text-align: right;\n",
       "    }\n",
       "</style>\n",
       "<table border=\"1\" class=\"dataframe\">\n",
       "  <thead>\n",
       "    <tr style=\"text-align: right;\">\n",
       "      <th></th>\n",
       "      <th>Origin City</th>\n",
       "      <th>Desitnation City</th>\n",
       "      <th>Pass. Demand \\n(per day)</th>\n",
       "      <th>Distance (km)</th>\n",
       "    </tr>\n",
       "  </thead>\n",
       "  <tbody>\n",
       "    <tr>\n",
       "      <th>3</th>\n",
       "      <td>AA</td>\n",
       "      <td>DD</td>\n",
       "      <td>300</td>\n",
       "      <td>1000</td>\n",
       "    </tr>\n",
       "    <tr>\n",
       "      <th>1</th>\n",
       "      <td>BB</td>\n",
       "      <td>CC</td>\n",
       "      <td>450</td>\n",
       "      <td>6500</td>\n",
       "    </tr>\n",
       "    <tr>\n",
       "      <th>2</th>\n",
       "      <td>CC</td>\n",
       "      <td>AA</td>\n",
       "      <td>300</td>\n",
       "      <td>400</td>\n",
       "    </tr>\n",
       "    <tr>\n",
       "      <th>0</th>\n",
       "      <td>AA</td>\n",
       "      <td>BB</td>\n",
       "      <td>420</td>\n",
       "      <td>3000</td>\n",
       "    </tr>\n",
       "  </tbody>\n",
       "</table>\n",
       "</div>"
      ],
      "text/plain": [
       "  Origin City Desitnation City  Pass. Demand \\n(per day)  Distance (km)\n",
       "3          AA               DD                       300           1000\n",
       "1          BB               CC                       450           6500\n",
       "2          CC               AA                       300            400\n",
       "0          AA               BB                       420           3000"
      ]
     },
     "execution_count": 11,
     "metadata": {},
     "output_type": "execute_result"
    }
   ],
   "source": [
    "city_pairs = pd.read_excel('Data Science Case study Vindiata.xls', sheet_name=3, header=3, usecols='B:E')\n",
    "city_pairs.sample(4)"
   ]
  },
  {
   "cell_type": "code",
   "execution_count": 12,
   "id": "ba7412ea-38ea-4f68-acca-fb972bab9c31",
   "metadata": {},
   "outputs": [],
   "source": [
    "# renaming ac_detail columns"
   ]
  },
  {
   "cell_type": "code",
   "execution_count": 13,
   "id": "a42fc615-666c-4e9a-b883-c5ade990e523",
   "metadata": {},
   "outputs": [],
   "source": [
    "ac_details.rename(columns = {'Costs per flight hour':r'Costs per flight hour (USD)'}, inplace = True)"
   ]
  },
  {
   "cell_type": "code",
   "execution_count": 14,
   "id": "77725636-fdf3-4003-bfc1-243a02e02aca",
   "metadata": {},
   "outputs": [],
   "source": [
    "# modifying column labels of operations DF and setting appropriate index"
   ]
  },
  {
   "cell_type": "code",
   "execution_count": 15,
   "id": "38f4114b-012d-40a8-b3e9-c5b2501b4240",
   "metadata": {},
   "outputs": [],
   "source": [
    "# separating date column labels and converting into list\n",
    "date_lab = operations.columns.astype(object).tolist()[2:]\n",
    "\n",
    "# converting the date column labels into specified format\n",
    "date_list = [datetime.strftime(col,'%b-%y') for col in date_lab]\n",
    "\n",
    "# final date column label\n",
    "operations.columns = ['Aircraft Name', 'Aircraft Type'] + date_list"
   ]
  },
  {
   "cell_type": "code",
   "execution_count": 16,
   "id": "568ec45d-f6a2-4d50-9043-ec1504c7e8f8",
   "metadata": {},
   "outputs": [],
   "source": [
    "# creating multilevel column\n",
    "operations.set_index(['Aircraft Name', 'Aircraft Type'], inplace=True) \n",
    "columns = [('Hours flown', 'Jan-14'), ('Hours flown', 'Feb-14'), \n",
    "            ('Hours flown','Mar-14'), ('Hours flown', 'Apr-14'),\n",
    "           ('Hours flown', 'May-14'), ('Hours flown', 'Jun-14'),\n",
    "           ('Hours flown', 'Jul-14'), ('Hours flown','Aug-14'),\n",
    "           ('Hours flown','Sep-14'), ('Hours flown','Oct-14'),\n",
    "           ('Hours flown','Nov-14'), ('Hours flown','Dec-14')]\n",
    "operations.columns = pd.MultiIndex.from_tuples(columns)"
   ]
  },
  {
   "cell_type": "code",
   "execution_count": 17,
   "id": "46f0830f-a55c-4a0e-95d8-cb5afe8d7d9d",
   "metadata": {},
   "outputs": [],
   "source": [
    "operations.reset_index(inplace=True)"
   ]
  },
  {
   "cell_type": "code",
   "execution_count": 18,
   "id": "fef572a9-4409-4764-8662-27aeb16ac5e8",
   "metadata": {},
   "outputs": [],
   "source": [
    "# renaming column label of city_pair DF"
   ]
  },
  {
   "cell_type": "code",
   "execution_count": 19,
   "id": "b18abb42-bfd9-493b-88e6-1aa51d91ad63",
   "metadata": {},
   "outputs": [],
   "source": [
    "city_pairs.rename(columns={'Pass. Demand \\n(per day)': 'Pass. Demand (per day)'}, inplace=True)"
   ]
  },
  {
   "cell_type": "code",
   "execution_count": 20,
   "id": "723818e5-9bd9-4275-bd6f-13ade6ede560",
   "metadata": {},
   "outputs": [],
   "source": [
    "#-----------------------------------------------------------------------------------------------------------------------------"
   ]
  },
  {
   "cell_type": "code",
   "execution_count": 21,
   "id": "6efec303-cd7a-4182-b2f9-4232e6d3ded2",
   "metadata": {},
   "outputs": [],
   "source": [
    "# PART - A"
   ]
  },
  {
   "cell_type": "code",
   "execution_count": 22,
   "id": "be0317fb-9cef-4280-9c5a-8338fac21718",
   "metadata": {},
   "outputs": [],
   "source": [
    "# 1: Total cost by the aircraft type for the year"
   ]
  },
  {
   "cell_type": "code",
   "execution_count": 23,
   "id": "2d17ba31-a9e0-4d4d-a819-ee9d2b737520",
   "metadata": {},
   "outputs": [],
   "source": [
    "# Total hours flown\n",
    "hours_flown = operations.sort_index(axis=1).groupby('Aircraft Type').sum().sum(axis=1)"
   ]
  },
  {
   "cell_type": "code",
   "execution_count": 24,
   "id": "3b278470-9d3e-45b3-a549-170aed7081a5",
   "metadata": {},
   "outputs": [],
   "source": [
    "total_cost = (hours_flown * ac_details.loc[:,'Costs per flight hour (USD)']).sort_values(ascending=False)"
   ]
  },
  {
   "cell_type": "code",
   "execution_count": 25,
   "id": "3e07070f-2e3e-4a73-85c7-35a871ecda52",
   "metadata": {
    "tags": []
   },
   "outputs": [
    {
     "data": {
      "text/plain": [
       "Aircraft Type\n",
       "A330     163755000\n",
       "B747     132444000\n",
       "A320      74375000\n",
       "B737      60261600\n",
       "Q400      33166000\n",
       "ATR72     26224000\n",
       "dtype: int64"
      ]
     },
     "execution_count": 25,
     "metadata": {},
     "output_type": "execute_result"
    }
   ],
   "source": [
    "total_cost"
   ]
  },
  {
   "cell_type": "code",
   "execution_count": 26,
   "id": "5fd8e7b1-ee4a-44eb-bd99-a023f3ce8b3b",
   "metadata": {},
   "outputs": [],
   "source": [
    "# 2: Aircraft with lowest cost per seat per km flown"
   ]
  },
  {
   "cell_type": "code",
   "execution_count": 27,
   "id": "13f91c9a-07c0-440d-93b7-3d0f2dcc7049",
   "metadata": {},
   "outputs": [],
   "source": [
    "# calculating total distance travelled by the aircraft\n",
    "total_distance = hours_flown * ac_details['Ave. Speed (km/h)']"
   ]
  },
  {
   "cell_type": "code",
   "execution_count": 28,
   "id": "b2711aaa-8891-4e84-9798-6b060780c2ab",
   "metadata": {
    "tags": []
   },
   "outputs": [],
   "source": [
    "# calculating costs per seat per km\n",
    "cost_seat_km = (total_cost / ac_details['Number of Seats']) / total_distance"
   ]
  },
  {
   "cell_type": "code",
   "execution_count": 29,
   "id": "f6d0a28a-5df9-415e-ac83-474524f8f2a1",
   "metadata": {},
   "outputs": [],
   "source": [
    "# aircraft with lowest cost per seat per km flown\n",
    "ac_lowest_rate = cost_seat_km.sort_values().index[0]"
   ]
  },
  {
   "cell_type": "code",
   "execution_count": 30,
   "id": "8794a56b-5b0a-4bb4-901e-a828d7318cc8",
   "metadata": {},
   "outputs": [
    {
     "data": {
      "text/plain": [
       "'A330'"
      ]
     },
     "execution_count": 30,
     "metadata": {},
     "output_type": "execute_result"
    }
   ],
   "source": [
    "ac_lowest_rate"
   ]
  },
  {
   "cell_type": "code",
   "execution_count": 31,
   "id": "eecea618-fc6e-46fd-8abc-3e9b98057a72",
   "metadata": {},
   "outputs": [],
   "source": [
    "#-----------------------------------------------------------------------------------------------------------------------------"
   ]
  },
  {
   "cell_type": "code",
   "execution_count": 32,
   "id": "5b77fd54-3228-4a81-8e8a-3c5ab9637035",
   "metadata": {},
   "outputs": [],
   "source": [
    "# PART - B"
   ]
  },
  {
   "cell_type": "code",
   "execution_count": 33,
   "id": "b3b361a0-5361-426b-aa7a-50fdf320d928",
   "metadata": {},
   "outputs": [],
   "source": [
    "# defining a function to calculate total cost incurred by an aircraft to operate between two cities\n",
    "def operating_cost(k):\n",
    "    \n",
    "    # creating a list of aircrafts that has enough range to operate between two cities\n",
    "    ac_ind = [ ac_details.index[i] for i in range(ac_details.index.size) \\\n",
    "              if ac_details.iloc[i,0] >= city_pairs.loc[k,'Distance (km)']]\n",
    "    \n",
    "    # calculating number of trips to be made by eligible aircrafts\n",
    "    ntrip = [np.ceil(city_pairs.at[k,'Pass. Demand (per day)'] / ac_details.at[aircraft,'Number of Seats']) \\\n",
    "             .astype(int) for aircraft in ac_ind]\n",
    "    \n",
    "    # calculating operating cost for eligible aircrafts assuming availability of multiple aircrafts of each type\n",
    "    oper_cost = [ac_details.at[ac_ind[i],'Costs per flight hour (USD)'] * ((ntrip[i] * city_pairs.at[k,'Distance (km)']) /\n",
    "                              ac_details.at[ac_ind[i],'Ave. Speed (km/h)']) for i in range(len(ac_ind))]\n",
    "    \n",
    "    # creating a DataFrame with operating costs of all eligible aircraft\n",
    "    df_cost = pd.DataFrame(list(zip(ac_ind, ntrip, oper_cost)), \\\n",
    "                           columns=['Aircraft Type', 'Number of Trips', 'Operating Cost'])\n",
    "    \n",
    "    return df_cost.sort_values(by='Operating Cost').reset_index(drop=True)"
   ]
  },
  {
   "cell_type": "code",
   "execution_count": 34,
   "id": "64f9d09e-d17d-43a0-8ff0-2fbca1620210",
   "metadata": {},
   "outputs": [],
   "source": [
    "ideal_combo = pd.Series({city_pairs.iat[i,0] + '-' + city_pairs.iat[i,1]: operating_cost(i).at[0,'Aircraft Type'] \n",
    "               for i in range(city_pairs.index.size)},name='Choice of Aircraft')"
   ]
  },
  {
   "cell_type": "code",
   "execution_count": 35,
   "id": "99d496cc-c7a3-4a37-b9b6-5162d67d9413",
   "metadata": {},
   "outputs": [
    {
     "data": {
      "text/plain": [
       "AA-BB    A330\n",
       "BB-CC    A330\n",
       "CC-AA    A320\n",
       "AA-DD    A320\n",
       "Name: Choice of Aircraft, dtype: object"
      ]
     },
     "execution_count": 35,
     "metadata": {},
     "output_type": "execute_result"
    }
   ],
   "source": [
    "ideal_combo"
   ]
  },
  {
   "cell_type": "code",
   "execution_count": 36,
   "id": "5be11567-5d34-43de-9b23-51d781b1a9a6",
   "metadata": {},
   "outputs": [],
   "source": [
    "#-----------------------------------------------------------------------------------------------------------------------------"
   ]
  },
  {
   "cell_type": "code",
   "execution_count": 37,
   "id": "a567e29f-addd-4de5-a301-f55d9f2e68ac",
   "metadata": {},
   "outputs": [],
   "source": [
    "# Report:"
   ]
  },
  {
   "cell_type": "code",
   "execution_count": 38,
   "id": "8f0cacc5-8b36-4bfd-a257-b4ffae46cf5b",
   "metadata": {},
   "outputs": [],
   "source": [
    "# Create a Pandas Excel writer object using XlsxWriter as the engine.\n",
    "writer_obj = pd.ExcelWriter('Airline Report.xlsx',engine='xlsxwriter')\n",
    "workbook_obj = writer_obj.book"
   ]
  },
  {
   "cell_type": "code",
   "execution_count": 39,
   "id": "58b6f3ca-533c-4b62-b8ef-6e5934ade56f",
   "metadata": {},
   "outputs": [],
   "source": [
    "bold_it = workbook_obj.add_format({'bold':True,'italic':True})"
   ]
  },
  {
   "cell_type": "code",
   "execution_count": 40,
   "id": "ebe48455-e26d-4737-85f3-4b7bdb4cdb26",
   "metadata": {},
   "outputs": [],
   "source": [
    "# Part A"
   ]
  },
  {
   "cell_type": "code",
   "execution_count": 41,
   "id": "d82accde-ffac-44d1-9ebe-d73fab4dec3b",
   "metadata": {},
   "outputs": [
    {
     "data": {
      "text/plain": [
       "0"
      ]
     },
     "execution_count": 41,
     "metadata": {},
     "output_type": "execute_result"
    },
    {
     "data": {
      "image/png": "[encoded data removed]",
      "text/plain": [
       "<Figure size 432x288 with 1 Axes>"
      ]
     },
     "metadata": {
      "needs_background": "light"
     },
     "output_type": "display_data"
    }
   ],
   "source": [
    "operations.sort_index(axis=1).groupby('Aircraft Type').sum().to_excel(writer_obj, sheet_name = 'Airline A', \n",
    "                                                                      startrow=1, startcol=1)\n",
    "worksheet_obj1 = writer_obj.sheets['Airline A']\n",
    "worksheet_obj1.set_column('B:B',15)\n",
    "worksheet_obj1.set_column('C:C',20)\n",
    "worksheet_obj1.set_header('Airline A')\n",
    "\n",
    "from io import BytesIO\n",
    "imgdata = BytesIO()\n",
    "fig = operations.sort_index(axis=1).groupby('Aircraft Type').sum().plot(kind='bar', title='Hours Flown', legend=False)\n",
    "fig.get_figure().savefig('imgdata1.png')\n",
    "worksheet_obj1.insert_image(\"P1\",'imgdata1.png', {'x_scale':0.6, 'y_scale':0.6})\n",
    "\n",
    "worksheet_obj1.write('B12', 'Comment 1: A330 has the been flown for maximum hours followed by A320 while ATR72 and Q400 has been used the least.',\n",
    "                    bold_it)\n",
    "\n",
    "# Comment 1: A330 has the been flown for maximum hours followed by A320 while ATR72 and Q400 has been used the least."
   ]
  },
  {
   "cell_type": "code",
   "execution_count": 42,
   "id": "b3456a98-2dd0-46c0-a193-5fbbbdf480c6",
   "metadata": {},
   "outputs": [
    {
     "data": {
      "text/plain": [
       "0"
      ]
     },
     "execution_count": 42,
     "metadata": {},
     "output_type": "execute_result"
    },
    {
     "data": {
      "image/png": "[encoded data removed]",
      "text/plain": [
       "<Figure size 432x288 with 1 Axes>"
      ]
     },
     "metadata": {
      "needs_background": "light"
     },
     "output_type": "display_data"
    }
   ],
   "source": [
    "hr_flown = operations.sort_index(axis=1).groupby('Aircraft Type').sum().sum()\n",
    "hr_flown.name = 'Hours Flown'\n",
    "hr_flown.droplevel(0).to_excel(writer_obj, sheet_name = 'Airline A', startrow=18, startcol=1)\n",
    "\n",
    "imgdata = BytesIO()\n",
    "fig = operations.sort_index(axis=1).groupby('Aircraft Type').sum().sum().plot(kind='bar', title='Hours Flown', legend=False)\n",
    "fig.get_figure().savefig('imgdata2.png')\n",
    "worksheet_obj1.insert_image(\"F17\",'imgdata2.png', {'x_scale':0.7, 'y_scale':0.7})\n",
    "\n",
    "worksheet_obj1.write('L23','Comment 2: Airline A has maintained almost consistent flight time throughout the year.', bold_it)\n",
    "    \n",
    "# Comment 2: Airline A has maintained almost consistent flight time throughout the year."
   ]
  },
  {
   "cell_type": "code",
   "execution_count": 43,
   "id": "379de68d-011e-4f97-a7cf-43c6f89d7237",
   "metadata": {
    "tags": []
   },
   "outputs": [
    {
     "data": {
      "text/plain": [
       "0"
      ]
     },
     "execution_count": 43,
     "metadata": {},
     "output_type": "execute_result"
    },
    {
     "data": {
      "image/png": "[encoded data removed]",
      "text/plain": [
       "<Figure size 432x288 with 1 Axes>"
      ]
     },
     "metadata": {},
     "output_type": "display_data"
    }
   ],
   "source": [
    "total_cost.name = 'Operating Cost'\n",
    "total_cost.to_excel(writer_obj, sheet_name = 'Airline A',startrow=37, startcol=1)\n",
    "\n",
    "imgdata = BytesIO()\n",
    "fig = total_cost.plot(kind='pie', title='Annual Operating Cost Breakdown', ylabel = ' ', shadow=True)\n",
    "fig.get_figure().savefig('imgdata3.png')\n",
    "worksheet_obj1.insert_image(\"E34\",'imgdata3.png', {'x_scale':0.7, 'y_scale':0.7})\n",
    "\n",
    "worksheet_obj1.write('K40','Comment 3: Flight type A330 has the highest annual operating cost while ATR72 has the least operating cost.',\n",
    "                    bold_it)\n",
    "worksheet_obj1.write('K41','Comment 4: Flight type A330 and B747 makes up for more than 50% of the total operating cost for Airline A.',\n",
    "                    bold_it)\n",
    "\n",
    "# Comment 3: Flight type A330 has the highest annual operating cost while ATR72 has the least operating cost.\n",
    "# Comment 4: Flight type A330 and B747 makes up for more than 50% of the total operating cost for Airline A."
   ]
  },
  {
   "cell_type": "code",
   "execution_count": 44,
   "id": "385a8ccf-123c-40e4-9e85-ca89ca273c0a",
   "metadata": {},
   "outputs": [
    {
     "data": {
      "text/plain": [
       "0"
      ]
     },
     "execution_count": 44,
     "metadata": {},
     "output_type": "execute_result"
    },
    {
     "data": {
      "image/png": "[encoded data removed]",
      "text/plain": [
       "<Figure size 432x288 with 1 Axes>"
      ]
     },
     "metadata": {
      "needs_background": "light"
     },
     "output_type": "display_data"
    }
   ],
   "source": [
    "cost_seat_km.name = 'Cost per seat per km'\n",
    "cost_seat_km.to_excel(writer_obj, sheet_name = 'Airline A',startrow=51, startcol=1)\n",
    "\n",
    "imgdata = BytesIO()\n",
    "fig = cost_seat_km.plot(kind='bar', ylabel='Cost per seat per km (USD)', title='Average operating cost (USD)')\n",
    "fig.get_figure().savefig('imgdata4.png')\n",
    "worksheet_obj1.insert_image(\"E50\",'imgdata4.png', {'x_scale':0.7, 'y_scale':0.7})\n",
    "\n",
    "worksheet_obj1.write('K55','Comment 5: For airline A, flight type A330 has the lowest operating cost per seat per km.',bold_it)\n",
    "worksheet_obj1.write('K56','Comment 6: ATR72 has the highest operating cost per seat per km.',bold_it)\n",
    "\n",
    "# Comment 5: For airline A, flight type A330 has the lowest operating cost per seat per km \n",
    "            # while ATR72 has the highest operating cost per seat per km."
   ]
  },
  {
   "cell_type": "code",
   "execution_count": 45,
   "id": "afeb2d3c-044f-480e-8142-114102a168dc",
   "metadata": {},
   "outputs": [],
   "source": [
    "#-----------------------------------------------------------------------------------------------------------------------------"
   ]
  },
  {
   "cell_type": "code",
   "execution_count": 46,
   "id": "86af20b3-b973-4bc3-89f5-7f8de1bdb200",
   "metadata": {},
   "outputs": [],
   "source": [
    "# Part B"
   ]
  },
  {
   "cell_type": "code",
   "execution_count": 47,
   "id": "0a67fce6-f89e-4afb-9b7c-d842c3d2b60a",
   "metadata": {},
   "outputs": [
    {
     "data": {
      "text/plain": [
       "0"
      ]
     },
     "execution_count": 47,
     "metadata": {},
     "output_type": "execute_result"
    },
    {
     "data": {
      "image/png": "[encoded data removed]",
      "text/plain": [
       "<Figure size 432x288 with 1 Axes>"
      ]
     },
     "metadata": {},
     "output_type": "display_data"
    }
   ],
   "source": [
    "ideal_combo.to_excel(writer_obj, sheet_name = 'Airline B', startrow=1, startcol=1)\n",
    "worksheet_obj2 = writer_obj.sheets['Airline B']\n",
    "worksheet_obj1.set_column('C:C',20)\n",
    "\n",
    "imgdata = BytesIO()\n",
    "fig = ideal_combo.value_counts().plot(kind='pie', shadow=True)\n",
    "fig.get_figure().savefig('imgdata5.png')\n",
    "worksheet_obj2.insert_image(\"D1\",'imgdata5.png', {'x_scale':0.5, 'y_scale':0.5})\n",
    "\n",
    "worksheet_obj2.write('H4','Comment 1: Only A320 and A330 should be used by Airline B to achieve lowest opearting cost.', bold_it)\n",
    "worksheet_obj2.write('H5','Comment 2: For route CC-AA and AA-DD use A320', bold_it)\n",
    "worksheet_obj2.write('H6','Comment 3: For route AA-BB and BB-CC use A330', bold_it)"
   ]
  },
  {
   "cell_type": "code",
   "execution_count": 48,
   "id": "48b382a8-af84-48fe-83d0-4f1dfbb3524f",
   "metadata": {},
   "outputs": [],
   "source": [
    "writer_obj.save()"
   ]
  }
 ],
 "metadata": {
  "kernelspec": {
   "display_name": "Python 3 (ipykernel)",
   "language": "python",
   "name": "python3"
  },
  "language_info": {
   "codemirror_mode": {
    "name": "ipython",
    "version": 3
   },
   "file_extension": ".py",
   "mimetype": "text/x-python",
   "name": "python",
   "nbconvert_exporter": "python",
   "pygments_lexer": "ipython3",
   "version": "3.9.12"
  }
 },
 "nbformat": 4,
 "nbformat_minor": 5
}
