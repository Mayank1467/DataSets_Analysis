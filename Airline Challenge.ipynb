{
 "cells": [
  {
   "cell_type": "code",
   "execution_count": 98,
   "id": "a909a366-2010-4bb7-82ba-69baf4b3871f",
   "metadata": {},
   "outputs": [],
   "source": [
    "import numpy as np\n",
    "import pandas as pd\n",
    "from datetime import datetime\n",
    "import matplotlib.pyplot as plt\n",
    "import warnings\n",
    "warnings.filterwarnings('ignore')"
   ]
  },
  {
   "cell_type": "code",
   "execution_count": 99,
   "id": "dc95319d-9fde-4853-8fe0-8f674649bb5c",
   "metadata": {},
   "outputs": [
    {
     "data": {
      "text/html": [
       "<div>\n",
       "<style scoped>\n",
       "    .dataframe tbody tr th:only-of-type {\n",
       "        vertical-align: middle;\n",
       "    }\n",
       "\n",
       "    .dataframe tbody tr th {\n",
       "        vertical-align: top;\n",
       "    }\n",
       "\n",
       "    .dataframe thead th {\n",
       "        text-align: right;\n",
       "    }\n",
       "</style>\n",
       "<table border=\"1\" class=\"dataframe\">\n",
       "  <thead>\n",
       "    <tr style=\"text-align: right;\">\n",
       "      <th></th>\n",
       "      <th>Range (Km)</th>\n",
       "      <th>Ave. Speed (km/h)</th>\n",
       "      <th>Number of Seats</th>\n",
       "      <th>Costs per flight hour</th>\n",
       "    </tr>\n",
       "    <tr>\n",
       "      <th>Aircraft Type</th>\n",
       "      <th></th>\n",
       "      <th></th>\n",
       "      <th></th>\n",
       "      <th></th>\n",
       "    </tr>\n",
       "  </thead>\n",
       "  <tbody>\n",
       "    <tr>\n",
       "      <th>A320</th>\n",
       "      <td>5000</td>\n",
       "      <td>800</td>\n",
       "      <td>150</td>\n",
       "      <td>5000</td>\n",
       "    </tr>\n",
       "    <tr>\n",
       "      <th>ATR72</th>\n",
       "      <td>1000</td>\n",
       "      <td>650</td>\n",
       "      <td>75</td>\n",
       "      <td>2750</td>\n",
       "    </tr>\n",
       "    <tr>\n",
       "      <th>B737</th>\n",
       "      <td>5000</td>\n",
       "      <td>800</td>\n",
       "      <td>150</td>\n",
       "      <td>5100</td>\n",
       "    </tr>\n",
       "    <tr>\n",
       "      <th>Q400</th>\n",
       "      <td>1500</td>\n",
       "      <td>750</td>\n",
       "      <td>90</td>\n",
       "      <td>3500</td>\n",
       "    </tr>\n",
       "    <tr>\n",
       "      <th>A330</th>\n",
       "      <td>8000</td>\n",
       "      <td>900</td>\n",
       "      <td>250</td>\n",
       "      <td>7500</td>\n",
       "    </tr>\n",
       "  </tbody>\n",
       "</table>\n",
       "</div>"
      ],
      "text/plain": [
       "               Range (Km)  Ave. Speed (km/h)  Number of Seats  \\\n",
       "Aircraft Type                                                   \n",
       "A320                 5000                800              150   \n",
       "ATR72                1000                650               75   \n",
       "B737                 5000                800              150   \n",
       "Q400                 1500                750               90   \n",
       "A330                 8000                900              250   \n",
       "\n",
       "               Costs per flight hour  \n",
       "Aircraft Type                         \n",
       "A320                            5000  \n",
       "ATR72                           2750  \n",
       "B737                            5100  \n",
       "Q400                            3500  \n",
       "A330                            7500  "
      ]
     },
     "execution_count": 99,
     "metadata": {},
     "output_type": "execute_result"
    }
   ],
   "source": [
    "# reading tables\n",
    "ac_details = pd.read_excel('Data Science Case study Vindiata.xls', sheet_name=1, \n",
    "                           header=3, index_col=0,usecols='B:F')\n",
    "ac_details.sample(5)"
   ]
  },
  {
   "cell_type": "code",
   "execution_count": 100,
   "id": "1961f6bc-6a4c-4118-8ea9-75acd62bb06a",
   "metadata": {},
   "outputs": [
    {
     "data": {
      "text/html": [
       "<div>\n",
       "<style scoped>\n",
       "    .dataframe tbody tr th:only-of-type {\n",
       "        vertical-align: middle;\n",
       "    }\n",
       "\n",
       "    .dataframe tbody tr th {\n",
       "        vertical-align: top;\n",
       "    }\n",
       "\n",
       "    .dataframe thead th {\n",
       "        text-align: right;\n",
       "    }\n",
       "</style>\n",
       "<table border=\"1\" class=\"dataframe\">\n",
       "  <thead>\n",
       "    <tr style=\"text-align: right;\">\n",
       "      <th></th>\n",
       "      <th>Aircraft Name</th>\n",
       "      <th>Aircraft Type</th>\n",
       "      <th>2014-01-01 00:00:00</th>\n",
       "      <th>2014-02-01 00:00:00</th>\n",
       "      <th>2014-03-01 00:00:00</th>\n",
       "      <th>2014-04-01 00:00:00</th>\n",
       "      <th>2014-05-01 00:00:00</th>\n",
       "      <th>2014-06-01 00:00:00</th>\n",
       "      <th>2014-07-01 00:00:00</th>\n",
       "      <th>2014-08-01 00:00:00</th>\n",
       "      <th>2014-09-01 00:00:00</th>\n",
       "      <th>2014-10-01 00:00:00</th>\n",
       "      <th>2014-11-01 00:00:00</th>\n",
       "      <th>2014-12-01 00:00:00</th>\n",
       "    </tr>\n",
       "  </thead>\n",
       "  <tbody>\n",
       "    <tr>\n",
       "      <th>24</th>\n",
       "      <td>Y</td>\n",
       "      <td>A330</td>\n",
       "      <td>300</td>\n",
       "      <td>301</td>\n",
       "      <td>298</td>\n",
       "      <td>303</td>\n",
       "      <td>293</td>\n",
       "      <td>295</td>\n",
       "      <td>298</td>\n",
       "      <td>296</td>\n",
       "      <td>306</td>\n",
       "      <td>306</td>\n",
       "      <td>301</td>\n",
       "      <td>302</td>\n",
       "    </tr>\n",
       "    <tr>\n",
       "      <th>17</th>\n",
       "      <td>R</td>\n",
       "      <td>ATR72</td>\n",
       "      <td>200</td>\n",
       "      <td>201</td>\n",
       "      <td>198</td>\n",
       "      <td>203</td>\n",
       "      <td>193</td>\n",
       "      <td>195</td>\n",
       "      <td>198</td>\n",
       "      <td>196</td>\n",
       "      <td>206</td>\n",
       "      <td>206</td>\n",
       "      <td>201</td>\n",
       "      <td>202</td>\n",
       "    </tr>\n",
       "    <tr>\n",
       "      <th>14</th>\n",
       "      <td>O</td>\n",
       "      <td>A320</td>\n",
       "      <td>250</td>\n",
       "      <td>251</td>\n",
       "      <td>248</td>\n",
       "      <td>253</td>\n",
       "      <td>243</td>\n",
       "      <td>245</td>\n",
       "      <td>248</td>\n",
       "      <td>246</td>\n",
       "      <td>256</td>\n",
       "      <td>256</td>\n",
       "      <td>251</td>\n",
       "      <td>252</td>\n",
       "    </tr>\n",
       "    <tr>\n",
       "      <th>10</th>\n",
       "      <td>K</td>\n",
       "      <td>B737</td>\n",
       "      <td>250</td>\n",
       "      <td>251</td>\n",
       "      <td>248</td>\n",
       "      <td>253</td>\n",
       "      <td>243</td>\n",
       "      <td>245</td>\n",
       "      <td>248</td>\n",
       "      <td>246</td>\n",
       "      <td>256</td>\n",
       "      <td>256</td>\n",
       "      <td>251</td>\n",
       "      <td>252</td>\n",
       "    </tr>\n",
       "    <tr>\n",
       "      <th>25</th>\n",
       "      <td>Z</td>\n",
       "      <td>B737</td>\n",
       "      <td>245</td>\n",
       "      <td>246</td>\n",
       "      <td>243</td>\n",
       "      <td>248</td>\n",
       "      <td>238</td>\n",
       "      <td>240</td>\n",
       "      <td>243</td>\n",
       "      <td>241</td>\n",
       "      <td>251</td>\n",
       "      <td>251</td>\n",
       "      <td>246</td>\n",
       "      <td>247</td>\n",
       "    </tr>\n",
       "  </tbody>\n",
       "</table>\n",
       "</div>"
      ],
      "text/plain": [
       "   Aircraft Name Aircraft Type  2014-01-01 00:00:00  2014-02-01 00:00:00  \\\n",
       "24             Y          A330                  300                  301   \n",
       "17             R         ATR72                  200                  201   \n",
       "14             O          A320                  250                  251   \n",
       "10             K          B737                  250                  251   \n",
       "25             Z          B737                  245                  246   \n",
       "\n",
       "    2014-03-01 00:00:00  2014-04-01 00:00:00  2014-05-01 00:00:00  \\\n",
       "24                  298                  303                  293   \n",
       "17                  198                  203                  193   \n",
       "14                  248                  253                  243   \n",
       "10                  248                  253                  243   \n",
       "25                  243                  248                  238   \n",
       "\n",
       "    2014-06-01 00:00:00  2014-07-01 00:00:00  2014-08-01 00:00:00  \\\n",
       "24                  295                  298                  296   \n",
       "17                  195                  198                  196   \n",
       "14                  245                  248                  246   \n",
       "10                  245                  248                  246   \n",
       "25                  240                  243                  241   \n",
       "\n",
       "    2014-09-01 00:00:00  2014-10-01 00:00:00  2014-11-01 00:00:00  \\\n",
       "24                  306                  306                  301   \n",
       "17                  206                  206                  201   \n",
       "14                  256                  256                  251   \n",
       "10                  256                  256                  251   \n",
       "25                  251                  251                  246   \n",
       "\n",
       "    2014-12-01 00:00:00  \n",
       "24                  302  \n",
       "17                  202  \n",
       "14                  252  \n",
       "10                  252  \n",
       "25                  247  "
      ]
     },
     "execution_count": 100,
     "metadata": {},
     "output_type": "execute_result"
    }
   ],
   "source": [
    "operations = pd.read_excel('Data Science Case study Vindiata.xls', sheet_name=2, skiprows=3, usecols='B:O')\n",
    "operations.sample(5)"
   ]
  },
  {
   "cell_type": "code",
   "execution_count": 101,
   "id": "aeeee380-2e62-40b4-bbef-0c2b555bcf25",
   "metadata": {},
   "outputs": [
    {
     "data": {
      "text/html": [
       "<div>\n",
       "<style scoped>\n",
       "    .dataframe tbody tr th:only-of-type {\n",
       "        vertical-align: middle;\n",
       "    }\n",
       "\n",
       "    .dataframe tbody tr th {\n",
       "        vertical-align: top;\n",
       "    }\n",
       "\n",
       "    .dataframe thead th {\n",
       "        text-align: right;\n",
       "    }\n",
       "</style>\n",
       "<table border=\"1\" class=\"dataframe\">\n",
       "  <thead>\n",
       "    <tr style=\"text-align: right;\">\n",
       "      <th></th>\n",
       "      <th>Origin City</th>\n",
       "      <th>Desitnation City</th>\n",
       "      <th>Pass. Demand \\n(per day)</th>\n",
       "      <th>Distance (km)</th>\n",
       "    </tr>\n",
       "  </thead>\n",
       "  <tbody>\n",
       "    <tr>\n",
       "      <th>3</th>\n",
       "      <td>AA</td>\n",
       "      <td>DD</td>\n",
       "      <td>300</td>\n",
       "      <td>1000</td>\n",
       "    </tr>\n",
       "    <tr>\n",
       "      <th>2</th>\n",
       "      <td>CC</td>\n",
       "      <td>AA</td>\n",
       "      <td>300</td>\n",
       "      <td>400</td>\n",
       "    </tr>\n",
       "    <tr>\n",
       "      <th>1</th>\n",
       "      <td>BB</td>\n",
       "      <td>CC</td>\n",
       "      <td>450</td>\n",
       "      <td>6500</td>\n",
       "    </tr>\n",
       "    <tr>\n",
       "      <th>0</th>\n",
       "      <td>AA</td>\n",
       "      <td>BB</td>\n",
       "      <td>420</td>\n",
       "      <td>3000</td>\n",
       "    </tr>\n",
       "  </tbody>\n",
       "</table>\n",
       "</div>"
      ],
      "text/plain": [
       "  Origin City Desitnation City  Pass. Demand \\n(per day)  Distance (km)\n",
       "3          AA               DD                       300           1000\n",
       "2          CC               AA                       300            400\n",
       "1          BB               CC                       450           6500\n",
       "0          AA               BB                       420           3000"
      ]
     },
     "execution_count": 101,
     "metadata": {},
     "output_type": "execute_result"
    }
   ],
   "source": [
    "city_pairs = pd.read_excel('Data Science Case study Vindiata.xls', sheet_name=3, header=3, usecols='B:E')\n",
    "city_pairs.sample(4)"
   ]
  },
  {
   "cell_type": "code",
   "execution_count": 102,
   "id": "6766f1dc-f164-4623-94f2-1fc50d45cde2",
   "metadata": {},
   "outputs": [],
   "source": [
    "# renaming ac_detail columns\n",
    "ac_details.rename(columns = {'Costs per flight hour':r'Costs per flight hour (USD)'}, inplace = True)"
   ]
  },
  {
   "cell_type": "code",
   "execution_count": 103,
   "id": "3de1997c-67b7-4208-a513-dc6205392012",
   "metadata": {},
   "outputs": [
    {
     "data": {
      "text/html": [
       "<div>\n",
       "<style scoped>\n",
       "    .dataframe tbody tr th:only-of-type {\n",
       "        vertical-align: middle;\n",
       "    }\n",
       "\n",
       "    .dataframe tbody tr th {\n",
       "        vertical-align: top;\n",
       "    }\n",
       "\n",
       "    .dataframe thead th {\n",
       "        text-align: right;\n",
       "    }\n",
       "</style>\n",
       "<table border=\"1\" class=\"dataframe\">\n",
       "  <thead>\n",
       "    <tr style=\"text-align: right;\">\n",
       "      <th></th>\n",
       "      <th>Range (Km)</th>\n",
       "      <th>Ave. Speed (km/h)</th>\n",
       "      <th>Number of Seats</th>\n",
       "      <th>Costs per flight hour (USD)</th>\n",
       "    </tr>\n",
       "    <tr>\n",
       "      <th>Aircraft Type</th>\n",
       "      <th></th>\n",
       "      <th></th>\n",
       "      <th></th>\n",
       "      <th></th>\n",
       "    </tr>\n",
       "  </thead>\n",
       "  <tbody>\n",
       "    <tr>\n",
       "      <th>A320</th>\n",
       "      <td>5000</td>\n",
       "      <td>800</td>\n",
       "      <td>150</td>\n",
       "      <td>5000</td>\n",
       "    </tr>\n",
       "    <tr>\n",
       "      <th>A330</th>\n",
       "      <td>8000</td>\n",
       "      <td>900</td>\n",
       "      <td>250</td>\n",
       "      <td>7500</td>\n",
       "    </tr>\n",
       "    <tr>\n",
       "      <th>B737</th>\n",
       "      <td>5000</td>\n",
       "      <td>800</td>\n",
       "      <td>150</td>\n",
       "      <td>5100</td>\n",
       "    </tr>\n",
       "    <tr>\n",
       "      <th>B747</th>\n",
       "      <td>10000</td>\n",
       "      <td>900</td>\n",
       "      <td>350</td>\n",
       "      <td>12000</td>\n",
       "    </tr>\n",
       "    <tr>\n",
       "      <th>Q400</th>\n",
       "      <td>1500</td>\n",
       "      <td>750</td>\n",
       "      <td>90</td>\n",
       "      <td>3500</td>\n",
       "    </tr>\n",
       "  </tbody>\n",
       "</table>\n",
       "</div>"
      ],
      "text/plain": [
       "               Range (Km)  Ave. Speed (km/h)  Number of Seats  \\\n",
       "Aircraft Type                                                   \n",
       "A320                 5000                800              150   \n",
       "A330                 8000                900              250   \n",
       "B737                 5000                800              150   \n",
       "B747                10000                900              350   \n",
       "Q400                 1500                750               90   \n",
       "\n",
       "               Costs per flight hour (USD)  \n",
       "Aircraft Type                               \n",
       "A320                                  5000  \n",
       "A330                                  7500  \n",
       "B737                                  5100  \n",
       "B747                                 12000  \n",
       "Q400                                  3500  "
      ]
     },
     "execution_count": 103,
     "metadata": {},
     "output_type": "execute_result"
    }
   ],
   "source": [
    "ac_details.head()"
   ]
  },
  {
   "cell_type": "code",
   "execution_count": 104,
   "id": "c667cb9a-8f9d-45f6-a4d1-1b9b0ce17af1",
   "metadata": {},
   "outputs": [],
   "source": [
    "# modifying column labels of operations DF and setting appropriate index\n",
    "\n",
    "# separating date column labels and converting into list\n",
    "date_lab = operations.columns.astype(object).tolist()[2:]\n",
    "\n",
    "# converting the date column labels into specified format\n",
    "date_list = [datetime.strftime(col,'%b-%y') for col in date_lab]\n",
    "\n",
    "# final date column label\n",
    "operations.columns = ['Aircraft Name', 'Aircraft Type'] + date_list"
   ]
  },
  {
   "cell_type": "code",
   "execution_count": 105,
   "id": "2d5d4b84-3b2c-4dde-b291-f5949baf0cd6",
   "metadata": {},
   "outputs": [],
   "source": [
    "# creating multilevel column\n",
    "operations.set_index(['Aircraft Name', 'Aircraft Type'], inplace=True) \n",
    "columns = [('Hours flown', 'Jan-14'), ('Hours flown', 'Feb-14'), \n",
    "            ('Hours flown','Mar-14'), ('Hours flown', 'Apr-14'),\n",
    "           ('Hours flown', 'May-14'), ('Hours flown', 'Jun-14'),\n",
    "           ('Hours flown', 'Jul-14'), ('Hours flown','Aug-14'),\n",
    "           ('Hours flown','Sep-14'), ('Hours flown','Oct-14'),\n",
    "           ('Hours flown','Nov-14'), ('Hours flown','Dec-14')]\n",
    "operations.columns = pd.MultiIndex.from_tuples(columns)"
   ]
  },
  {
   "cell_type": "code",
   "execution_count": 106,
   "id": "6912ef7e-828d-4a9c-9280-b6a3a53151a2",
   "metadata": {},
   "outputs": [],
   "source": [
    "operations.reset_index(inplace=True)"
   ]
  },
  {
   "cell_type": "code",
   "execution_count": 107,
   "id": "9860d4bb-9b67-4644-9d6a-4f5f83a556f8",
   "metadata": {},
   "outputs": [
    {
     "data": {
      "text/html": [
       "<div>\n",
       "<style scoped>\n",
       "    .dataframe tbody tr th:only-of-type {\n",
       "        vertical-align: middle;\n",
       "    }\n",
       "\n",
       "    .dataframe tbody tr th {\n",
       "        vertical-align: top;\n",
       "    }\n",
       "\n",
       "    .dataframe thead tr th {\n",
       "        text-align: left;\n",
       "    }\n",
       "</style>\n",
       "<table border=\"1\" class=\"dataframe\">\n",
       "  <thead>\n",
       "    <tr>\n",
       "      <th></th>\n",
       "      <th>Aircraft Name</th>\n",
       "      <th>Aircraft Type</th>\n",
       "      <th colspan=\"12\" halign=\"left\">Hours flown</th>\n",
       "    </tr>\n",
       "    <tr>\n",
       "      <th></th>\n",
       "      <th></th>\n",
       "      <th></th>\n",
       "      <th>Jan-14</th>\n",
       "      <th>Feb-14</th>\n",
       "      <th>Mar-14</th>\n",
       "      <th>Apr-14</th>\n",
       "      <th>May-14</th>\n",
       "      <th>Jun-14</th>\n",
       "      <th>Jul-14</th>\n",
       "      <th>Aug-14</th>\n",
       "      <th>Sep-14</th>\n",
       "      <th>Oct-14</th>\n",
       "      <th>Nov-14</th>\n",
       "      <th>Dec-14</th>\n",
       "    </tr>\n",
       "  </thead>\n",
       "  <tbody>\n",
       "    <tr>\n",
       "      <th>0</th>\n",
       "      <td>A</td>\n",
       "      <td>A320</td>\n",
       "      <td>250</td>\n",
       "      <td>251</td>\n",
       "      <td>248</td>\n",
       "      <td>253</td>\n",
       "      <td>243</td>\n",
       "      <td>245</td>\n",
       "      <td>248</td>\n",
       "      <td>246</td>\n",
       "      <td>256</td>\n",
       "      <td>256</td>\n",
       "      <td>251</td>\n",
       "      <td>252</td>\n",
       "    </tr>\n",
       "    <tr>\n",
       "      <th>1</th>\n",
       "      <td>B</td>\n",
       "      <td>A330</td>\n",
       "      <td>300</td>\n",
       "      <td>301</td>\n",
       "      <td>298</td>\n",
       "      <td>303</td>\n",
       "      <td>293</td>\n",
       "      <td>295</td>\n",
       "      <td>298</td>\n",
       "      <td>296</td>\n",
       "      <td>306</td>\n",
       "      <td>306</td>\n",
       "      <td>301</td>\n",
       "      <td>302</td>\n",
       "    </tr>\n",
       "    <tr>\n",
       "      <th>2</th>\n",
       "      <td>C</td>\n",
       "      <td>B737</td>\n",
       "      <td>245</td>\n",
       "      <td>246</td>\n",
       "      <td>243</td>\n",
       "      <td>248</td>\n",
       "      <td>238</td>\n",
       "      <td>240</td>\n",
       "      <td>243</td>\n",
       "      <td>241</td>\n",
       "      <td>251</td>\n",
       "      <td>251</td>\n",
       "      <td>246</td>\n",
       "      <td>247</td>\n",
       "    </tr>\n",
       "    <tr>\n",
       "      <th>3</th>\n",
       "      <td>D</td>\n",
       "      <td>B747</td>\n",
       "      <td>310</td>\n",
       "      <td>311</td>\n",
       "      <td>308</td>\n",
       "      <td>313</td>\n",
       "      <td>303</td>\n",
       "      <td>305</td>\n",
       "      <td>308</td>\n",
       "      <td>306</td>\n",
       "      <td>316</td>\n",
       "      <td>316</td>\n",
       "      <td>311</td>\n",
       "      <td>312</td>\n",
       "    </tr>\n",
       "    <tr>\n",
       "      <th>4</th>\n",
       "      <td>E</td>\n",
       "      <td>Q400</td>\n",
       "      <td>200</td>\n",
       "      <td>201</td>\n",
       "      <td>198</td>\n",
       "      <td>203</td>\n",
       "      <td>193</td>\n",
       "      <td>195</td>\n",
       "      <td>198</td>\n",
       "      <td>196</td>\n",
       "      <td>206</td>\n",
       "      <td>206</td>\n",
       "      <td>201</td>\n",
       "      <td>202</td>\n",
       "    </tr>\n",
       "  </tbody>\n",
       "</table>\n",
       "</div>"
      ],
      "text/plain": [
       "  Aircraft Name Aircraft Type Hours flown                                     \\\n",
       "                                   Jan-14 Feb-14 Mar-14 Apr-14 May-14 Jun-14   \n",
       "0            A           A320         250    251    248    253    243    245   \n",
       "1             B          A330         300    301    298    303    293    295   \n",
       "2             C          B737         245    246    243    248    238    240   \n",
       "3             D          B747         310    311    308    313    303    305   \n",
       "4             E          Q400         200    201    198    203    193    195   \n",
       "\n",
       "                                             \n",
       "  Jul-14 Aug-14 Sep-14 Oct-14 Nov-14 Dec-14  \n",
       "0    248    246    256    256    251    252  \n",
       "1    298    296    306    306    301    302  \n",
       "2    243    241    251    251    246    247  \n",
       "3    308    306    316    316    311    312  \n",
       "4    198    196    206    206    201    202  "
      ]
     },
     "execution_count": 107,
     "metadata": {},
     "output_type": "execute_result"
    }
   ],
   "source": [
    "operations.head()"
   ]
  },
  {
   "cell_type": "code",
   "execution_count": 108,
   "id": "1625334d-afd3-4d47-9fd8-9e7a533009be",
   "metadata": {},
   "outputs": [],
   "source": [
    "# renaming column label of city_pair DF\n",
    "city_pairs.rename(columns={'Pass. Demand \\n(per day)': 'Pass. Demand (per day)'}, inplace=True)"
   ]
  },
  {
   "cell_type": "code",
   "execution_count": 109,
   "id": "b5b52b8f-4ea5-4f2a-8cc0-5e36efa326e7",
   "metadata": {},
   "outputs": [
    {
     "data": {
      "text/html": [
       "<div>\n",
       "<style scoped>\n",
       "    .dataframe tbody tr th:only-of-type {\n",
       "        vertical-align: middle;\n",
       "    }\n",
       "\n",
       "    .dataframe tbody tr th {\n",
       "        vertical-align: top;\n",
       "    }\n",
       "\n",
       "    .dataframe thead th {\n",
       "        text-align: right;\n",
       "    }\n",
       "</style>\n",
       "<table border=\"1\" class=\"dataframe\">\n",
       "  <thead>\n",
       "    <tr style=\"text-align: right;\">\n",
       "      <th></th>\n",
       "      <th>Origin City</th>\n",
       "      <th>Desitnation City</th>\n",
       "      <th>Pass. Demand (per day)</th>\n",
       "      <th>Distance (km)</th>\n",
       "    </tr>\n",
       "  </thead>\n",
       "  <tbody>\n",
       "    <tr>\n",
       "      <th>0</th>\n",
       "      <td>AA</td>\n",
       "      <td>BB</td>\n",
       "      <td>420</td>\n",
       "      <td>3000</td>\n",
       "    </tr>\n",
       "    <tr>\n",
       "      <th>1</th>\n",
       "      <td>BB</td>\n",
       "      <td>CC</td>\n",
       "      <td>450</td>\n",
       "      <td>6500</td>\n",
       "    </tr>\n",
       "    <tr>\n",
       "      <th>2</th>\n",
       "      <td>CC</td>\n",
       "      <td>AA</td>\n",
       "      <td>300</td>\n",
       "      <td>400</td>\n",
       "    </tr>\n",
       "    <tr>\n",
       "      <th>3</th>\n",
       "      <td>AA</td>\n",
       "      <td>DD</td>\n",
       "      <td>300</td>\n",
       "      <td>1000</td>\n",
       "    </tr>\n",
       "  </tbody>\n",
       "</table>\n",
       "</div>"
      ],
      "text/plain": [
       "  Origin City Desitnation City  Pass. Demand (per day)  Distance (km)\n",
       "0          AA               BB                     420           3000\n",
       "1          BB               CC                     450           6500\n",
       "2          CC               AA                     300            400\n",
       "3          AA               DD                     300           1000"
      ]
     },
     "execution_count": 109,
     "metadata": {},
     "output_type": "execute_result"
    }
   ],
   "source": [
    "city_pairs.head()"
   ]
  },
  {
   "cell_type": "markdown",
   "id": "15ae84a8-d346-4a75-86eb-7c7fff0081be",
   "metadata": {},
   "source": [
    "## Airline - A"
   ]
  },
  {
   "cell_type": "markdown",
   "id": "5ed8791c-ea80-47e1-a6b8-10864c80b851",
   "metadata": {},
   "source": [
    "### Q1: Total cost by the aircraft type for the year"
   ]
  },
  {
   "cell_type": "code",
   "execution_count": 110,
   "id": "0b85129f-7578-41e5-b8e4-26686d8abab3",
   "metadata": {},
   "outputs": [],
   "source": [
    "# Total hours flown\n",
    "hours_flown = operations.sort_index(axis=1).groupby('Aircraft Type').sum().sum(axis=1)"
   ]
  },
  {
   "cell_type": "code",
   "execution_count": 111,
   "id": "93345287-e6b4-4157-bd9f-33a105fa5166",
   "metadata": {},
   "outputs": [
    {
     "data": {
      "text/plain": [
       "Aircraft Type\n",
       "A320     14875\n",
       "A330     21834\n",
       "ATR72     9536\n",
       "B737     11816\n",
       "B747     11037\n",
       "Q400      9476\n",
       "dtype: int64"
      ]
     },
     "execution_count": 111,
     "metadata": {},
     "output_type": "execute_result"
    }
   ],
   "source": [
    "hours_flown"
   ]
  },
  {
   "cell_type": "code",
   "execution_count": 112,
   "id": "edfb4f92-02d8-46d1-8f86-74698108e813",
   "metadata": {},
   "outputs": [],
   "source": [
    "total_cost = (hours_flown * ac_details.loc[:,'Costs per flight hour (USD)']).sort_values(ascending=False)"
   ]
  },
  {
   "cell_type": "code",
   "execution_count": 113,
   "id": "b887638a-1592-421a-b01f-9c3a6c05ccb4",
   "metadata": {
    "tags": []
   },
   "outputs": [
    {
     "data": {
      "text/plain": [
       "Aircraft Type\n",
       "A330     163755000\n",
       "B747     132444000\n",
       "A320      74375000\n",
       "B737      60261600\n",
       "Q400      33166000\n",
       "ATR72     26224000\n",
       "dtype: int64"
      ]
     },
     "execution_count": 113,
     "metadata": {},
     "output_type": "execute_result"
    }
   ],
   "source": [
    "total_cost"
   ]
  },
  {
   "cell_type": "markdown",
   "id": "66f76f72-c92f-483a-ae50-9e18aab97130",
   "metadata": {},
   "source": [
    "### Q2: Aircraft with lowest cost per seat per km flown"
   ]
  },
  {
   "cell_type": "code",
   "execution_count": 114,
   "id": "26b2f97d-fe57-451d-9d7f-f84336f2f8ca",
   "metadata": {},
   "outputs": [],
   "source": [
    "# calculating total distance travelled by the aircraft\n",
    "total_distance = hours_flown * ac_details['Ave. Speed (km/h)']"
   ]
  },
  {
   "cell_type": "code",
   "execution_count": 115,
   "id": "7dc7aa20-64a0-4019-b381-89054b1d892a",
   "metadata": {},
   "outputs": [
    {
     "data": {
      "text/plain": [
       "Aircraft Type\n",
       "A320     11900000\n",
       "A330     19650600\n",
       "ATR72     6198400\n",
       "B737      9452800\n",
       "B747      9933300\n",
       "Q400      7107000\n",
       "dtype: int64"
      ]
     },
     "execution_count": 115,
     "metadata": {},
     "output_type": "execute_result"
    }
   ],
   "source": [
    "total_distance"
   ]
  },
  {
   "cell_type": "code",
   "execution_count": 116,
   "id": "d2c326bf-d596-4acf-9a61-5fd3ce1ee416",
   "metadata": {
    "tags": []
   },
   "outputs": [],
   "source": [
    "# calculating costs per seat per km\n",
    "cost_seat_km = (total_cost / ac_details['Number of Seats']) / total_distance"
   ]
  },
  {
   "cell_type": "code",
   "execution_count": 117,
   "id": "80b28f3e-2f7c-49fe-9710-ef42b3c80a64",
   "metadata": {},
   "outputs": [
    {
     "data": {
      "text/plain": [
       "Aircraft Type\n",
       "A320     0.041667\n",
       "A330     0.033333\n",
       "ATR72    0.056410\n",
       "B737     0.042500\n",
       "B747     0.038095\n",
       "Q400     0.051852\n",
       "dtype: float64"
      ]
     },
     "execution_count": 117,
     "metadata": {},
     "output_type": "execute_result"
    }
   ],
   "source": [
    "cost_seat_km"
   ]
  },
  {
   "cell_type": "code",
   "execution_count": 118,
   "id": "5a78aeb3-5e6d-45d3-9145-6b693a5af6f8",
   "metadata": {},
   "outputs": [],
   "source": [
    "# aircraft with lowest cost per seat per km flown\n",
    "ac_lowest_rate = cost_seat_km.sort_values().index[0]"
   ]
  },
  {
   "cell_type": "code",
   "execution_count": 119,
   "id": "266b6fe4-a0f7-4814-8dff-f25a7259ab71",
   "metadata": {},
   "outputs": [
    {
     "data": {
      "text/plain": [
       "'A330'"
      ]
     },
     "execution_count": 119,
     "metadata": {},
     "output_type": "execute_result"
    }
   ],
   "source": [
    "ac_lowest_rate"
   ]
  },
  {
   "cell_type": "markdown",
   "id": "c7c885db-c908-4d97-bd58-a5fab671a1e7",
   "metadata": {},
   "source": [
    "A330 has lowest cost per seat per km."
   ]
  },
  {
   "cell_type": "markdown",
   "id": "95c6f634-dc96-44d4-817b-0c33b4b6ccd1",
   "metadata": {
    "tags": []
   },
   "source": [
    "## Airline - B"
   ]
  },
  {
   "cell_type": "markdown",
   "id": "6ed5b379-be48-4ebb-b4e1-bbd1b0a14cd7",
   "metadata": {},
   "source": [
    "### Q1: Ideal combination of flight type for each city-pairs"
   ]
  },
  {
   "cell_type": "code",
   "execution_count": 120,
   "id": "b7dccd19-9249-459e-b999-01f3ba492f68",
   "metadata": {},
   "outputs": [],
   "source": [
    "# defining a function to calculate total cost incurred by an aircraft to operate between two cities\n",
    "def operating_cost(k):\n",
    "    \n",
    "    # creating a list of aircrafts that has enough range to operate between two cities\n",
    "    ac_ind = [ ac_details.index[i] for i in range(ac_details.index.size) \\\n",
    "              if ac_details.iloc[i,0] >= city_pairs.loc[k,'Distance (km)']]\n",
    "    \n",
    "    # calculating number of trips to be made by eligible aircrafts\n",
    "    ntrip = [np.ceil(city_pairs.at[k,'Pass. Demand (per day)'] / ac_details.at[aircraft,'Number of Seats']) \\\n",
    "             .astype(int) for aircraft in ac_ind]\n",
    "    \n",
    "    # calculating operating cost for eligible aircrafts assuming availability of multiple aircrafts of each type\n",
    "    oper_cost = [ac_details.at[ac_ind[i],'Costs per flight hour (USD)'] * ((ntrip[i] * city_pairs.at[k,'Distance (km)']) /\n",
    "                              ac_details.at[ac_ind[i],'Ave. Speed (km/h)']) for i in range(len(ac_ind))]\n",
    "    \n",
    "    # creating a DataFrame with operating costs of all eligible aircraft\n",
    "    df_cost = pd.DataFrame(list(zip(ac_ind, ntrip, oper_cost)), \\\n",
    "                           columns=['Aircraft Type', 'Number of Trips', 'Operating Cost'])\n",
    "    \n",
    "    return df_cost.sort_values(by='Operating Cost').reset_index(drop=True)"
   ]
  },
  {
   "cell_type": "code",
   "execution_count": 121,
   "id": "9c105e7d-4ce3-49db-b65e-6e745f8d2fda",
   "metadata": {},
   "outputs": [],
   "source": [
    "ideal_combo = pd.Series({city_pairs.iat[i,0] + '-' + city_pairs.iat[i,1]: operating_cost(i).at[0,'Aircraft Type'] \n",
    "               for i in range(city_pairs.index.size)},name='Choice of Aircraft')"
   ]
  },
  {
   "cell_type": "code",
   "execution_count": 122,
   "id": "d8277ec4-fa46-4053-8c3c-69a1035d1a77",
   "metadata": {},
   "outputs": [
    {
     "data": {
      "text/plain": [
       "AA-BB    A330\n",
       "BB-CC    A330\n",
       "CC-AA    A320\n",
       "AA-DD    A320\n",
       "Name: Choice of Aircraft, dtype: object"
      ]
     },
     "execution_count": 122,
     "metadata": {},
     "output_type": "execute_result"
    }
   ],
   "source": [
    "ideal_combo"
   ]
  },
  {
   "cell_type": "markdown",
   "id": "ba95f3b0-6a01-40cc-a3c6-50744d131aee",
   "metadata": {},
   "source": [
    "## Report"
   ]
  },
  {
   "cell_type": "markdown",
   "id": "63c22a59-a282-4597-818f-f0786c1fb612",
   "metadata": {},
   "source": [
    "### Airline A"
   ]
  },
  {
   "cell_type": "code",
   "execution_count": 123,
   "id": "5ce5d2d3-c52b-4821-af7a-f6f4852543ef",
   "metadata": {},
   "outputs": [
    {
     "data": {
      "text/html": [
       "<div>\n",
       "<style scoped>\n",
       "    .dataframe tbody tr th:only-of-type {\n",
       "        vertical-align: middle;\n",
       "    }\n",
       "\n",
       "    .dataframe tbody tr th {\n",
       "        vertical-align: top;\n",
       "    }\n",
       "\n",
       "    .dataframe thead tr th {\n",
       "        text-align: left;\n",
       "    }\n",
       "</style>\n",
       "<table border=\"1\" class=\"dataframe\">\n",
       "  <thead>\n",
       "    <tr>\n",
       "      <th></th>\n",
       "      <th>Aircraft Name</th>\n",
       "      <th>Aircraft Type</th>\n",
       "      <th colspan=\"12\" halign=\"left\">Hours flown</th>\n",
       "    </tr>\n",
       "    <tr>\n",
       "      <th></th>\n",
       "      <th></th>\n",
       "      <th></th>\n",
       "      <th>Jan-14</th>\n",
       "      <th>Feb-14</th>\n",
       "      <th>Mar-14</th>\n",
       "      <th>Apr-14</th>\n",
       "      <th>May-14</th>\n",
       "      <th>Jun-14</th>\n",
       "      <th>Jul-14</th>\n",
       "      <th>Aug-14</th>\n",
       "      <th>Sep-14</th>\n",
       "      <th>Oct-14</th>\n",
       "      <th>Nov-14</th>\n",
       "      <th>Dec-14</th>\n",
       "    </tr>\n",
       "  </thead>\n",
       "  <tbody>\n",
       "    <tr>\n",
       "      <th>0</th>\n",
       "      <td>A</td>\n",
       "      <td>A320</td>\n",
       "      <td>250</td>\n",
       "      <td>251</td>\n",
       "      <td>248</td>\n",
       "      <td>253</td>\n",
       "      <td>243</td>\n",
       "      <td>245</td>\n",
       "      <td>248</td>\n",
       "      <td>246</td>\n",
       "      <td>256</td>\n",
       "      <td>256</td>\n",
       "      <td>251</td>\n",
       "      <td>252</td>\n",
       "    </tr>\n",
       "    <tr>\n",
       "      <th>1</th>\n",
       "      <td>B</td>\n",
       "      <td>A330</td>\n",
       "      <td>300</td>\n",
       "      <td>301</td>\n",
       "      <td>298</td>\n",
       "      <td>303</td>\n",
       "      <td>293</td>\n",
       "      <td>295</td>\n",
       "      <td>298</td>\n",
       "      <td>296</td>\n",
       "      <td>306</td>\n",
       "      <td>306</td>\n",
       "      <td>301</td>\n",
       "      <td>302</td>\n",
       "    </tr>\n",
       "    <tr>\n",
       "      <th>2</th>\n",
       "      <td>C</td>\n",
       "      <td>B737</td>\n",
       "      <td>245</td>\n",
       "      <td>246</td>\n",
       "      <td>243</td>\n",
       "      <td>248</td>\n",
       "      <td>238</td>\n",
       "      <td>240</td>\n",
       "      <td>243</td>\n",
       "      <td>241</td>\n",
       "      <td>251</td>\n",
       "      <td>251</td>\n",
       "      <td>246</td>\n",
       "      <td>247</td>\n",
       "    </tr>\n",
       "    <tr>\n",
       "      <th>3</th>\n",
       "      <td>D</td>\n",
       "      <td>B747</td>\n",
       "      <td>310</td>\n",
       "      <td>311</td>\n",
       "      <td>308</td>\n",
       "      <td>313</td>\n",
       "      <td>303</td>\n",
       "      <td>305</td>\n",
       "      <td>308</td>\n",
       "      <td>306</td>\n",
       "      <td>316</td>\n",
       "      <td>316</td>\n",
       "      <td>311</td>\n",
       "      <td>312</td>\n",
       "    </tr>\n",
       "    <tr>\n",
       "      <th>4</th>\n",
       "      <td>E</td>\n",
       "      <td>Q400</td>\n",
       "      <td>200</td>\n",
       "      <td>201</td>\n",
       "      <td>198</td>\n",
       "      <td>203</td>\n",
       "      <td>193</td>\n",
       "      <td>195</td>\n",
       "      <td>198</td>\n",
       "      <td>196</td>\n",
       "      <td>206</td>\n",
       "      <td>206</td>\n",
       "      <td>201</td>\n",
       "      <td>202</td>\n",
       "    </tr>\n",
       "  </tbody>\n",
       "</table>\n",
       "</div>"
      ],
      "text/plain": [
       "  Aircraft Name Aircraft Type Hours flown                                     \\\n",
       "                                   Jan-14 Feb-14 Mar-14 Apr-14 May-14 Jun-14   \n",
       "0            A           A320         250    251    248    253    243    245   \n",
       "1             B          A330         300    301    298    303    293    295   \n",
       "2             C          B737         245    246    243    248    238    240   \n",
       "3             D          B747         310    311    308    313    303    305   \n",
       "4             E          Q400         200    201    198    203    193    195   \n",
       "\n",
       "                                             \n",
       "  Jul-14 Aug-14 Sep-14 Oct-14 Nov-14 Dec-14  \n",
       "0    248    246    256    256    251    252  \n",
       "1    298    296    306    306    301    302  \n",
       "2    243    241    251    251    246    247  \n",
       "3    308    306    316    316    311    312  \n",
       "4    198    196    206    206    201    202  "
      ]
     },
     "execution_count": 123,
     "metadata": {},
     "output_type": "execute_result"
    }
   ],
   "source": [
    "operations.head()"
   ]
  },
  {
   "cell_type": "code",
   "execution_count": 124,
   "id": "db86be29-7bea-4202-a5b4-0e0de97f8a97",
   "metadata": {
    "tags": []
   },
   "outputs": [
    {
     "data": {
      "image/png": "[encoded data removed]",
      "text/plain": [
       "<Figure size 432x288 with 1 Axes>"
      ]
     },
     "metadata": {
      "needs_background": "light"
     },
     "output_type": "display_data"
    },
    {
     "data": {
      "image/png": "[encoded data removed]",
      "text/plain": [
       "<Figure size 432x288 with 1 Axes>"
      ]
     },
     "metadata": {
      "needs_background": "light"
     },
     "output_type": "display_data"
    },
    {
     "data": {
      "image/png": "[encoded data removed]",
      "text/plain": [
       "<Figure size 432x288 with 1 Axes>"
      ]
     },
     "metadata": {
      "needs_background": "light"
     },
     "output_type": "display_data"
    },
    {
     "data": {
      "image/png": "[encoded data removed]",
      "text/plain": [
       "<Figure size 432x288 with 1 Axes>"
      ]
     },
     "metadata": {
      "needs_background": "light"
     },
     "output_type": "display_data"
    },
    {
     "data": {
      "image/png": "[encoded data removed]",
      "text/plain": [
       "<Figure size 432x288 with 1 Axes>"
      ]
     },
     "metadata": {
      "needs_background": "light"
     },
     "output_type": "display_data"
    },
    {
     "data": {
      "image/png": "[encoded data removed]",
      "text/plain": [
       "<Figure size 432x288 with 1 Axes>"
      ]
     },
     "metadata": {
      "needs_background": "light"
     },
     "output_type": "display_data"
    },
    {
     "data": {
      "image/png": "[encoded data removed]",
      "text/plain": [
       "<Figure size 432x288 with 1 Axes>"
      ]
     },
     "metadata": {
      "needs_background": "light"
     },
     "output_type": "display_data"
    },
    {
     "data": {
      "image/png": "[encoded data removed]",
      "text/plain": [
       "<Figure size 432x288 with 1 Axes>"
      ]
     },
     "metadata": {
      "needs_background": "light"
     },
     "output_type": "display_data"
    },
    {
     "data": {
      "image/png": "[encoded data removed]",
      "text/plain": [
       "<Figure size 432x288 with 1 Axes>"
      ]
     },
     "metadata": {
      "needs_background": "light"
     },
     "output_type": "display_data"
    },
    {
     "data": {
      "image/png": "[encoded data removed]",
      "text/plain": [
       "<Figure size 432x288 with 1 Axes>"
      ]
     },
     "metadata": {
      "needs_background": "light"
     },
     "output_type": "display_data"
    },
    {
     "data": {
      "image/png": "[encoded data removed]",
      "text/plain": [
       "<Figure size 432x288 with 1 Axes>"
      ]
     },
     "metadata": {
      "needs_background": "light"
     },
     "output_type": "display_data"
    },
    {
     "data": {
      "image/png": "[encoded data removed]",
      "text/plain": [
       "<Figure size 432x288 with 1 Axes>"
      ]
     },
     "metadata": {
      "needs_background": "light"
     },
     "output_type": "display_data"
    }
   ],
   "source": [
    "months = operations['Hours flown'].columns\n",
    "for month in months:\n",
    "    operations.groupby('Aircraft Type').sum()[('Hours flown', month)].plot(kind='bar', ylabel='Hours Flown', title=month)\n",
    "    plt.show()"
   ]
  },
  {
   "cell_type": "markdown",
   "id": "1a572d26-8f0c-460f-91e6-d4cd3c79197b",
   "metadata": {},
   "source": [
    "Comment 1: A330 has the been flown for maximum hours followed by A320 while ATR72 and Q400 has been used the least."
   ]
  },
  {
   "cell_type": "code",
   "execution_count": 125,
   "id": "3baa024f-42ea-4ab9-815c-e136e90113f0",
   "metadata": {},
   "outputs": [
    {
     "data": {
      "image/png": "[encoded data removed]",
      "text/plain": [
       "<Figure size 432x288 with 1 Axes>"
      ]
     },
     "metadata": {
      "needs_background": "light"
     },
     "output_type": "display_data"
    }
   ],
   "source": [
    "hr_flown = operations.sort_index(axis=1).groupby('Aircraft Type').sum().sum()\n",
    "fig = operations.groupby('Aircraft Type').sum().droplevel(0, axis=1).sum().plot(kind='bar', title='Hours Flown', legend=False)"
   ]
  },
  {
   "cell_type": "markdown",
   "id": "93255671-f1a1-4085-b916-46544eeded34",
   "metadata": {},
   "source": [
    "Comment 2: Airline A has maintained almost consistent flight time throughout the year."
   ]
  },
  {
   "cell_type": "code",
   "execution_count": 126,
   "id": "2fc34ec9-ce09-455c-b74e-e557048c5c47",
   "metadata": {
    "tags": []
   },
   "outputs": [
    {
     "data": {
      "image/png": "[encoded data removed]",
      "text/plain": [
       "<Figure size 432x288 with 1 Axes>"
      ]
     },
     "metadata": {},
     "output_type": "display_data"
    }
   ],
   "source": [
    "total_cost.name = 'Operating Cost'\n",
    "fig = total_cost.plot(kind='pie', title='Annual Operating Cost Breakdown', ylabel = ' ', shadow=True)"
   ]
  },
  {
   "cell_type": "markdown",
   "id": "27da3648-1221-4a7d-a3b3-7d47b07c96f6",
   "metadata": {},
   "source": [
    "Comment 3: Flight type A330 has the highest annual operating cost while ATR72 has the least operating cost."
   ]
  },
  {
   "cell_type": "markdown",
   "id": "b65b0929-8694-446a-9048-72588f5f10f3",
   "metadata": {},
   "source": [
    "Comment 4: Flight type A330 and B747 makes up for more than 50% of the total operating cost for Airline A."
   ]
  },
  {
   "cell_type": "code",
   "execution_count": 127,
   "id": "885d995b-a119-4054-bd29-65c1cc403bba",
   "metadata": {},
   "outputs": [
    {
     "data": {
      "image/png": "[encoded data removed]",
      "text/plain": [
       "<Figure size 432x288 with 1 Axes>"
      ]
     },
     "metadata": {
      "needs_background": "light"
     },
     "output_type": "display_data"
    }
   ],
   "source": [
    "cost_seat_km.name = 'Cost per seat per km'\n",
    "fig = cost_seat_km.plot(kind='bar', ylabel='Cost per seat per km (USD)', title='Average operating cost (USD)')"
   ]
  },
  {
   "cell_type": "markdown",
   "id": "bb3136b7-796a-43bc-98c9-f5d13164d08d",
   "metadata": {},
   "source": [
    "Comment 5: For airline A, flight type A330 has the lowest operating cost per seat per km while ATR72 has the highest operating cost per seat per km."
   ]
  },
  {
   "cell_type": "markdown",
   "id": "5c9ed559-981a-4264-8a1e-0a6f37cb215d",
   "metadata": {},
   "source": [
    "### Part B"
   ]
  },
  {
   "cell_type": "code",
   "execution_count": 128,
   "id": "eacb87bc-abb7-4f81-bc8c-d9cc7d508cb0",
   "metadata": {},
   "outputs": [
    {
     "data": {
      "image/png": "[encoded data removed]",
      "text/plain": [
       "<Figure size 432x288 with 1 Axes>"
      ]
     },
     "metadata": {},
     "output_type": "display_data"
    }
   ],
   "source": [
    "fig = ideal_combo.value_counts().plot(kind='pie', shadow=True)"
   ]
  },
  {
   "cell_type": "markdown",
   "id": "a5d012fb-fc5c-42b8-a02c-2d4f57467513",
   "metadata": {},
   "source": [
    "Comment 1: Only A320 and A330 should be used by Airline B to achieve lowest opearting cost."
   ]
  },
  {
   "cell_type": "markdown",
   "id": "db113399-a06e-4632-823e-64c72abc2d49",
   "metadata": {},
   "source": [
    "Comment 2: For route CC-AA and AA-DD use A320."
   ]
  },
  {
   "cell_type": "markdown",
   "id": "7993a8c3-527c-4dbd-ad82-328429fa0aa7",
   "metadata": {},
   "source": [
    "Comment 3: For route AA-BB and BB-CC use A330."
   ]
  }
 ],
 "metadata": {
  "kernelspec": {
   "display_name": "Python 3 (ipykernel)",
   "language": "python",
   "name": "python3"
  },
  "language_info": {
   "codemirror_mode": {
    "name": "ipython",
    "version": 3
   },
   "file_extension": ".py",
   "mimetype": "text/x-python",
   "name": "python",
   "nbconvert_exporter": "python",
   "pygments_lexer": "ipython3",
   "version": "3.9.12"
  }
 },
 "nbformat": 4,
 "nbformat_minor": 5
}
