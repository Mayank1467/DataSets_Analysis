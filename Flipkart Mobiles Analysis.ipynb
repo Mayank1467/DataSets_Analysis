{
 "cells": [
  {
   "cell_type": "code",
   "execution_count": 230,
   "id": "9c3111eb-b085-4c99-b90e-b73396067e29",
   "metadata": {},
   "outputs": [],
   "source": [
    "import pandas as pd\n",
    "import numpy as np\n",
    "import matplotlib.pyplot as plt\n",
    "%matplotlib inline\n",
    "import seaborn as sns\n",
    "import datetime"
   ]
  },
  {
   "cell_type": "code",
   "execution_count": 231,
   "id": "9c3e2f33-58f6-41d2-a174-503f82d433bb",
   "metadata": {},
   "outputs": [],
   "source": [
    "url = 'https://raw.githubusercontent.com/Mayank1467/Datasets/main/Flipkart_Mobiles.csv'"
   ]
  },
  {
   "cell_type": "code",
   "execution_count": 232,
   "id": "de5be732-d446-4e64-b492-0289712cf6f1",
   "metadata": {},
   "outputs": [],
   "source": [
    "df1 = pd.read_csv(url)"
   ]
  },
  {
   "cell_type": "code",
   "execution_count": 233,
   "id": "9b7d76f4-4137-44b8-b757-58839d78ef42",
   "metadata": {},
   "outputs": [
    {
     "data": {
      "text/html": [
       "<div>\n",
       "<style scoped>\n",
       "    .dataframe tbody tr th:only-of-type {\n",
       "        vertical-align: middle;\n",
       "    }\n",
       "\n",
       "    .dataframe tbody tr th {\n",
       "        vertical-align: top;\n",
       "    }\n",
       "\n",
       "    .dataframe thead th {\n",
       "        text-align: right;\n",
       "    }\n",
       "</style>\n",
       "<table border=\"1\" class=\"dataframe\">\n",
       "  <thead>\n",
       "    <tr style=\"text-align: right;\">\n",
       "      <th></th>\n",
       "      <th>Brand</th>\n",
       "      <th>Model</th>\n",
       "      <th>Color</th>\n",
       "      <th>Memory</th>\n",
       "      <th>Storage</th>\n",
       "      <th>Rating</th>\n",
       "      <th>Selling Price</th>\n",
       "      <th>Original Price</th>\n",
       "    </tr>\n",
       "  </thead>\n",
       "  <tbody>\n",
       "    <tr>\n",
       "      <th>0</th>\n",
       "      <td>OPPO</td>\n",
       "      <td>A53</td>\n",
       "      <td>Moonlight Black</td>\n",
       "      <td>4 GB</td>\n",
       "      <td>64 GB</td>\n",
       "      <td>4.5</td>\n",
       "      <td>11990</td>\n",
       "      <td>15990</td>\n",
       "    </tr>\n",
       "    <tr>\n",
       "      <th>1</th>\n",
       "      <td>OPPO</td>\n",
       "      <td>A53</td>\n",
       "      <td>Mint Cream</td>\n",
       "      <td>4 GB</td>\n",
       "      <td>64 GB</td>\n",
       "      <td>4.5</td>\n",
       "      <td>11990</td>\n",
       "      <td>15990</td>\n",
       "    </tr>\n",
       "    <tr>\n",
       "      <th>2</th>\n",
       "      <td>OPPO</td>\n",
       "      <td>A53</td>\n",
       "      <td>Moonlight Black</td>\n",
       "      <td>6 GB</td>\n",
       "      <td>128 GB</td>\n",
       "      <td>4.3</td>\n",
       "      <td>13990</td>\n",
       "      <td>17990</td>\n",
       "    </tr>\n",
       "    <tr>\n",
       "      <th>3</th>\n",
       "      <td>OPPO</td>\n",
       "      <td>A53</td>\n",
       "      <td>Mint Cream</td>\n",
       "      <td>6 GB</td>\n",
       "      <td>128 GB</td>\n",
       "      <td>4.3</td>\n",
       "      <td>13990</td>\n",
       "      <td>17990</td>\n",
       "    </tr>\n",
       "    <tr>\n",
       "      <th>4</th>\n",
       "      <td>OPPO</td>\n",
       "      <td>A53</td>\n",
       "      <td>Electric Black</td>\n",
       "      <td>4 GB</td>\n",
       "      <td>64 GB</td>\n",
       "      <td>4.5</td>\n",
       "      <td>11990</td>\n",
       "      <td>15990</td>\n",
       "    </tr>\n",
       "  </tbody>\n",
       "</table>\n",
       "</div>"
      ],
      "text/plain": [
       "  Brand Model            Color Memory Storage  Rating  Selling Price  \\\n",
       "0  OPPO   A53  Moonlight Black   4 GB   64 GB     4.5          11990   \n",
       "1  OPPO   A53       Mint Cream   4 GB   64 GB     4.5          11990   \n",
       "2  OPPO   A53  Moonlight Black   6 GB  128 GB     4.3          13990   \n",
       "3  OPPO   A53       Mint Cream   6 GB  128 GB     4.3          13990   \n",
       "4  OPPO   A53   Electric Black   4 GB   64 GB     4.5          11990   \n",
       "\n",
       "   Original Price  \n",
       "0           15990  \n",
       "1           15990  \n",
       "2           17990  \n",
       "3           17990  \n",
       "4           15990  "
      ]
     },
     "execution_count": 233,
     "metadata": {},
     "output_type": "execute_result"
    }
   ],
   "source": [
    "df1.head()"
   ]
  },
  {
   "cell_type": "code",
   "execution_count": 234,
   "id": "b62f5ad9-43e7-4bac-8ce0-03fd97e742cd",
   "metadata": {},
   "outputs": [
    {
     "name": "stdout",
     "output_type": "stream",
     "text": [
      "<class 'pandas.core.frame.DataFrame'>\n",
      "RangeIndex: 3114 entries, 0 to 3113\n",
      "Data columns (total 8 columns):\n",
      " #   Column          Non-Null Count  Dtype  \n",
      "---  ------          --------------  -----  \n",
      " 0   Brand           3114 non-null   object \n",
      " 1   Model           3114 non-null   object \n",
      " 2   Color           3114 non-null   object \n",
      " 3   Memory          3071 non-null   object \n",
      " 4   Storage         3075 non-null   object \n",
      " 5   Rating          2970 non-null   float64\n",
      " 6   Selling Price   3114 non-null   int64  \n",
      " 7   Original Price  3114 non-null   int64  \n",
      "dtypes: float64(1), int64(2), object(5)\n",
      "memory usage: 194.8+ KB\n"
     ]
    }
   ],
   "source": [
    "df1.info()"
   ]
  },
  {
   "cell_type": "code",
   "execution_count": 235,
   "id": "fb2b216a-b0a0-4f87-b093-2d6dc3aee284",
   "metadata": {},
   "outputs": [],
   "source": [
    "# adding a Profit column\n",
    "df1['Discount'] = df1['Original Price'] - df1['Selling Price']"
   ]
  },
  {
   "cell_type": "code",
   "execution_count": 236,
   "id": "d38c5743-a42b-4a77-ae6c-e1316ff8189a",
   "metadata": {},
   "outputs": [
    {
     "data": {
      "text/html": [
       "<div>\n",
       "<style scoped>\n",
       "    .dataframe tbody tr th:only-of-type {\n",
       "        vertical-align: middle;\n",
       "    }\n",
       "\n",
       "    .dataframe tbody tr th {\n",
       "        vertical-align: top;\n",
       "    }\n",
       "\n",
       "    .dataframe thead th {\n",
       "        text-align: right;\n",
       "    }\n",
       "</style>\n",
       "<table border=\"1\" class=\"dataframe\">\n",
       "  <thead>\n",
       "    <tr style=\"text-align: right;\">\n",
       "      <th></th>\n",
       "      <th>Brand</th>\n",
       "      <th>Model</th>\n",
       "      <th>Color</th>\n",
       "      <th>Memory</th>\n",
       "      <th>Storage</th>\n",
       "      <th>Rating</th>\n",
       "      <th>Selling Price</th>\n",
       "      <th>Original Price</th>\n",
       "      <th>Discount</th>\n",
       "    </tr>\n",
       "  </thead>\n",
       "  <tbody>\n",
       "    <tr>\n",
       "      <th>0</th>\n",
       "      <td>OPPO</td>\n",
       "      <td>A53</td>\n",
       "      <td>Moonlight Black</td>\n",
       "      <td>4 GB</td>\n",
       "      <td>64 GB</td>\n",
       "      <td>4.5</td>\n",
       "      <td>11990</td>\n",
       "      <td>15990</td>\n",
       "      <td>4000</td>\n",
       "    </tr>\n",
       "    <tr>\n",
       "      <th>1</th>\n",
       "      <td>OPPO</td>\n",
       "      <td>A53</td>\n",
       "      <td>Mint Cream</td>\n",
       "      <td>4 GB</td>\n",
       "      <td>64 GB</td>\n",
       "      <td>4.5</td>\n",
       "      <td>11990</td>\n",
       "      <td>15990</td>\n",
       "      <td>4000</td>\n",
       "    </tr>\n",
       "    <tr>\n",
       "      <th>2</th>\n",
       "      <td>OPPO</td>\n",
       "      <td>A53</td>\n",
       "      <td>Moonlight Black</td>\n",
       "      <td>6 GB</td>\n",
       "      <td>128 GB</td>\n",
       "      <td>4.3</td>\n",
       "      <td>13990</td>\n",
       "      <td>17990</td>\n",
       "      <td>4000</td>\n",
       "    </tr>\n",
       "    <tr>\n",
       "      <th>3</th>\n",
       "      <td>OPPO</td>\n",
       "      <td>A53</td>\n",
       "      <td>Mint Cream</td>\n",
       "      <td>6 GB</td>\n",
       "      <td>128 GB</td>\n",
       "      <td>4.3</td>\n",
       "      <td>13990</td>\n",
       "      <td>17990</td>\n",
       "      <td>4000</td>\n",
       "    </tr>\n",
       "    <tr>\n",
       "      <th>4</th>\n",
       "      <td>OPPO</td>\n",
       "      <td>A53</td>\n",
       "      <td>Electric Black</td>\n",
       "      <td>4 GB</td>\n",
       "      <td>64 GB</td>\n",
       "      <td>4.5</td>\n",
       "      <td>11990</td>\n",
       "      <td>15990</td>\n",
       "      <td>4000</td>\n",
       "    </tr>\n",
       "  </tbody>\n",
       "</table>\n",
       "</div>"
      ],
      "text/plain": [
       "  Brand Model            Color Memory Storage  Rating  Selling Price  \\\n",
       "0  OPPO   A53  Moonlight Black   4 GB   64 GB     4.5          11990   \n",
       "1  OPPO   A53       Mint Cream   4 GB   64 GB     4.5          11990   \n",
       "2  OPPO   A53  Moonlight Black   6 GB  128 GB     4.3          13990   \n",
       "3  OPPO   A53       Mint Cream   6 GB  128 GB     4.3          13990   \n",
       "4  OPPO   A53   Electric Black   4 GB   64 GB     4.5          11990   \n",
       "\n",
       "   Original Price  Discount  \n",
       "0           15990      4000  \n",
       "1           15990      4000  \n",
       "2           17990      4000  \n",
       "3           17990      4000  \n",
       "4           15990      4000  "
      ]
     },
     "execution_count": 236,
     "metadata": {},
     "output_type": "execute_result"
    }
   ],
   "source": [
    "df.head()"
   ]
  },
  {
   "cell_type": "markdown",
   "id": "83249b68-4b8f-4149-bcc0-66b9027fda1f",
   "metadata": {},
   "source": [
    "## Data Preprocessing"
   ]
  },
  {
   "cell_type": "markdown",
   "id": "a473548e-9887-4461-98de-7cabac19a307",
   "metadata": {
    "tags": []
   },
   "source": [
    "### Handling Null Values"
   ]
  },
  {
   "cell_type": "code",
   "execution_count": 237,
   "id": "e43f3c86-5eee-4823-9b31-a90c8b24ee7a",
   "metadata": {},
   "outputs": [
    {
     "data": {
      "text/plain": [
       "Index(['Memory', 'Storage', 'Rating'], dtype='object')"
      ]
     },
     "execution_count": 237,
     "metadata": {},
     "output_type": "execute_result"
    }
   ],
   "source": [
    "# checking for Null values\n",
    "na_features = df1.columns[df1.isna().any()]\n",
    "na_features"
   ]
  },
  {
   "cell_type": "code",
   "execution_count": 238,
   "id": "158be8ea-52cd-4376-88f4-53dae04190c0",
   "metadata": {},
   "outputs": [
    {
     "name": "stdout",
     "output_type": "stream",
     "text": [
      "{'Memory': 0.013808606294155427}\n",
      "{'Storage': 0.012524084778420038}\n",
      "{'Rating': 0.046242774566473986}\n"
     ]
    }
   ],
   "source": [
    "# checking for ratio of Null values\n",
    "for feature in na_features:\n",
    "    print({feature: df1[feature].isna().sum() / len(df1)})"
   ]
  },
  {
   "cell_type": "code",
   "execution_count": 239,
   "id": "8b603089-4ffc-4e84-b594-e1a9dae9b980",
   "metadata": {},
   "outputs": [],
   "source": [
    "# handling categorical Null values\n",
    "for feature in ['Memory', 'Storage']:\n",
    "    df1[feature].fillna(df1[feature].mode()[0], inplace=True)"
   ]
  },
  {
   "cell_type": "code",
   "execution_count": 240,
   "id": "83cd1eaf-6309-4175-b635-a6014a0be754",
   "metadata": {},
   "outputs": [
    {
     "data": {
      "image/png": "[encoded data removed]",
      "text/plain": [
       "<Figure size 432x288 with 1 Axes>"
      ]
     },
     "metadata": {
      "needs_background": "light"
     },
     "output_type": "display_data"
    }
   ],
   "source": [
    "# visualizing distribution of Rating columns\n",
    "_ = df.boxplot(column='Rating')"
   ]
  },
  {
   "cell_type": "markdown",
   "id": "999e88be-02b0-42d0-92db-e936d7e0fd4d",
   "metadata": {},
   "source": [
    "- Presence of samll number of outliers found in the distribution and hence we can use median to replace the values."
   ]
  },
  {
   "cell_type": "code",
   "execution_count": 241,
   "id": "e5d009ab-feae-4ff2-b4ba-de82f0af4d23",
   "metadata": {},
   "outputs": [],
   "source": [
    "# handling numerical Null values\n",
    "df1.Rating.fillna(df1.Rating.median(), inplace=True)"
   ]
  },
  {
   "cell_type": "code",
   "execution_count": 242,
   "id": "ddda6550-3f30-4567-bcd7-b5382a0e7e87",
   "metadata": {},
   "outputs": [
    {
     "data": {
      "text/plain": [
       "Brand             0\n",
       "Model             0\n",
       "Color             0\n",
       "Memory            0\n",
       "Storage           0\n",
       "Rating            0\n",
       "Selling Price     0\n",
       "Original Price    0\n",
       "Discount          0\n",
       "dtype: int64"
      ]
     },
     "execution_count": 242,
     "metadata": {},
     "output_type": "execute_result"
    }
   ],
   "source": [
    "# rechecking for Null values\n",
    "df1.isna().sum()"
   ]
  },
  {
   "cell_type": "code",
   "execution_count": 243,
   "id": "87bf71cf-09bd-48d5-9f95-a6c626f5ddff",
   "metadata": {},
   "outputs": [
    {
     "data": {
      "text/html": [
       "<div>\n",
       "<style scoped>\n",
       "    .dataframe tbody tr th:only-of-type {\n",
       "        vertical-align: middle;\n",
       "    }\n",
       "\n",
       "    .dataframe tbody tr th {\n",
       "        vertical-align: top;\n",
       "    }\n",
       "\n",
       "    .dataframe thead th {\n",
       "        text-align: right;\n",
       "    }\n",
       "</style>\n",
       "<table border=\"1\" class=\"dataframe\">\n",
       "  <thead>\n",
       "    <tr style=\"text-align: right;\">\n",
       "      <th></th>\n",
       "      <th>Brand</th>\n",
       "      <th>Model</th>\n",
       "      <th>Color</th>\n",
       "      <th>Memory</th>\n",
       "      <th>Storage</th>\n",
       "      <th>Rating</th>\n",
       "      <th>Selling Price</th>\n",
       "      <th>Original Price</th>\n",
       "      <th>Discount</th>\n",
       "    </tr>\n",
       "  </thead>\n",
       "  <tbody>\n",
       "    <tr>\n",
       "      <th>0</th>\n",
       "      <td>OPPO</td>\n",
       "      <td>A53</td>\n",
       "      <td>Moonlight Black</td>\n",
       "      <td>4 GB</td>\n",
       "      <td>64 GB</td>\n",
       "      <td>4.5</td>\n",
       "      <td>11990</td>\n",
       "      <td>15990</td>\n",
       "      <td>4000</td>\n",
       "    </tr>\n",
       "    <tr>\n",
       "      <th>1</th>\n",
       "      <td>OPPO</td>\n",
       "      <td>A53</td>\n",
       "      <td>Mint Cream</td>\n",
       "      <td>4 GB</td>\n",
       "      <td>64 GB</td>\n",
       "      <td>4.5</td>\n",
       "      <td>11990</td>\n",
       "      <td>15990</td>\n",
       "      <td>4000</td>\n",
       "    </tr>\n",
       "    <tr>\n",
       "      <th>2</th>\n",
       "      <td>OPPO</td>\n",
       "      <td>A53</td>\n",
       "      <td>Moonlight Black</td>\n",
       "      <td>6 GB</td>\n",
       "      <td>128 GB</td>\n",
       "      <td>4.3</td>\n",
       "      <td>13990</td>\n",
       "      <td>17990</td>\n",
       "      <td>4000</td>\n",
       "    </tr>\n",
       "    <tr>\n",
       "      <th>3</th>\n",
       "      <td>OPPO</td>\n",
       "      <td>A53</td>\n",
       "      <td>Mint Cream</td>\n",
       "      <td>6 GB</td>\n",
       "      <td>128 GB</td>\n",
       "      <td>4.3</td>\n",
       "      <td>13990</td>\n",
       "      <td>17990</td>\n",
       "      <td>4000</td>\n",
       "    </tr>\n",
       "    <tr>\n",
       "      <th>4</th>\n",
       "      <td>OPPO</td>\n",
       "      <td>A53</td>\n",
       "      <td>Electric Black</td>\n",
       "      <td>4 GB</td>\n",
       "      <td>64 GB</td>\n",
       "      <td>4.5</td>\n",
       "      <td>11990</td>\n",
       "      <td>15990</td>\n",
       "      <td>4000</td>\n",
       "    </tr>\n",
       "  </tbody>\n",
       "</table>\n",
       "</div>"
      ],
      "text/plain": [
       "  Brand Model            Color Memory Storage  Rating  Selling Price  \\\n",
       "0  OPPO   A53  Moonlight Black   4 GB   64 GB     4.5          11990   \n",
       "1  OPPO   A53       Mint Cream   4 GB   64 GB     4.5          11990   \n",
       "2  OPPO   A53  Moonlight Black   6 GB  128 GB     4.3          13990   \n",
       "3  OPPO   A53       Mint Cream   6 GB  128 GB     4.3          13990   \n",
       "4  OPPO   A53   Electric Black   4 GB   64 GB     4.5          11990   \n",
       "\n",
       "   Original Price  Discount  \n",
       "0           15990      4000  \n",
       "1           15990      4000  \n",
       "2           17990      4000  \n",
       "3           17990      4000  \n",
       "4           15990      4000  "
      ]
     },
     "execution_count": 243,
     "metadata": {},
     "output_type": "execute_result"
    }
   ],
   "source": [
    "df1.head()"
   ]
  },
  {
   "cell_type": "markdown",
   "id": "a0d2e0bc-17dc-410e-bfb6-1c3c9cfe0c58",
   "metadata": {},
   "source": [
    "### Handling Categorical Features"
   ]
  },
  {
   "cell_type": "code",
   "execution_count": 244,
   "id": "489ac188-4373-4463-aab1-065f1c314513",
   "metadata": {},
   "outputs": [
    {
     "name": "stdout",
     "output_type": "stream",
     "text": [
      "Memory\n",
      "['4 GB' '6 GB' '3 GB' '8 GB' '2 GB' '12 GB' '1 GB' '512 MB' '1.5 GB'\n",
      " '768 MB' '16 GB' '18 GB' '8 MB' '64 MB' '4 MB' '32 MB' '16 MB' '128 MB'\n",
      " '4GB' '153 MB' '2 MB' '10 MB' '46 MB' '32 GB' '100 MB' '30 MB'] \n",
      "\n",
      "Storage\n",
      "['64 GB' '128 GB' '32 GB' '256 GB' '16 GB' '8 GB' '4 GB' '512 GB' '16 MB'\n",
      " '128 MB' '2 MB' '4 MB' '48 MB' '8 MB' 'Expandable Upto 32 GB'\n",
      " 'Expandable Upto 16 GB' '10 MB' '256 MB' '140 MB' '64 MB' '1 TB' '153 MB'\n",
      " '512 MB' '100 MB' '129 GB' '130 GB'] \n",
      "\n"
     ]
    }
   ],
   "source": [
    "# getting all unique categories\n",
    "for feature in ['Memory', 'Storage']:\n",
    "    print(feature)\n",
    "    print(df1[feature].unique(), '\\n')"
   ]
  },
  {
   "cell_type": "markdown",
   "id": "7cacb74b-ae28-41e0-ac22-7e910b03c4d9",
   "metadata": {},
   "source": [
    "- Inconsistency in the data is found. Replacing '4GB' with '4 GB'."
   ]
  },
  {
   "cell_type": "code",
   "execution_count": 245,
   "id": "8d270503-4a49-4f20-ab05-68af97cfcdde",
   "metadata": {},
   "outputs": [],
   "source": [
    "# replacing 4GB with 4 GB\n",
    "for feature in ['Memory', 'Storage']:\n",
    "    temp_dict = {'4GB': '4 GB'}\n",
    "    df1[feature].replace(temp_dict, inplace=True)"
   ]
  },
  {
   "cell_type": "markdown",
   "id": "76be23e9-1819-4a68-9d73-aa078dbccd73",
   "metadata": {},
   "source": [
    "### Handling Rare Categorical Features"
   ]
  },
  {
   "cell_type": "code",
   "execution_count": 246,
   "id": "429d3cc3-84c9-4304-9da3-a201599250a8",
   "metadata": {},
   "outputs": [
    {
     "name": "stdout",
     "output_type": "stream",
     "text": [
      "Memory\n",
      "4 GB      0.298651\n",
      "3 GB      0.159923\n",
      "6 GB      0.159602\n",
      "2 GB      0.125241\n",
      "8 GB      0.110790\n",
      "1 GB      0.061978\n",
      "12 GB     0.020231\n",
      "512 MB    0.014772\n",
      "4 MB      0.012524\n",
      "1.5 GB    0.009313\n",
      "16 MB     0.005138\n",
      "64 MB     0.004817\n",
      "8 MB      0.004496\n",
      "32 MB     0.004496\n",
      "768 MB    0.001927\n",
      "128 MB    0.001285\n",
      "10 MB     0.000963\n",
      "18 GB     0.000642\n",
      "46 MB     0.000642\n",
      "16 GB     0.000642\n",
      "2 MB      0.000642\n",
      "153 MB    0.000321\n",
      "32 GB     0.000321\n",
      "30 MB     0.000321\n",
      "100 MB    0.000321\n",
      "Name: Memory, dtype: float64 \n",
      "\n",
      "Storage\n",
      "64 GB                    0.261079\n",
      "128 GB                   0.245344\n",
      "32 GB                    0.178227\n",
      "16 GB                    0.103404\n",
      "256 GB                   0.077071\n",
      "8 GB                     0.042710\n",
      "512 GB                   0.021516\n",
      "4 GB                     0.017983\n",
      "2 MB                     0.014451\n",
      "4 MB                     0.008992\n",
      "1 TB                     0.004496\n",
      "16 MB                    0.004496\n",
      "Expandable Upto 16 GB    0.003854\n",
      "Expandable Upto 32 GB    0.003854\n",
      "128 MB                   0.003854\n",
      "8 MB                     0.001927\n",
      "48 MB                    0.000963\n",
      "64 MB                    0.000963\n",
      "256 MB                   0.000963\n",
      "129 GB                   0.000963\n",
      "100 MB                   0.000642\n",
      "130 GB                   0.000642\n",
      "512 MB                   0.000642\n",
      "153 MB                   0.000321\n",
      "10 MB                    0.000321\n",
      "140 MB                   0.000321\n",
      "Name: Storage, dtype: float64 \n",
      "\n"
     ]
    }
   ],
   "source": [
    "# finding ratio of different categories\n",
    "for feature in ['Memory', 'Storage']:\n",
    "    print(feature)\n",
    "    print(df1[feature].value_counts() / len(df), '\\n')"
   ]
  },
  {
   "cell_type": "code",
   "execution_count": 247,
   "id": "815e4f83-4324-4c94-8ed4-5e672ccc6a71",
   "metadata": {},
   "outputs": [],
   "source": [
    "# handling classes with less than 5% data\n",
    "df = df1.copy()\n",
    "for feature in ['Memory', 'Storage']:\n",
    "    ratio = df[feature].value_counts() / len(df)\n",
    "    temp = ratio[ratio < 0.05].index\n",
    "    df[feature] = np.where(df[feature].isin(temp), 'Others', df[feature])"
   ]
  },
  {
   "cell_type": "code",
   "execution_count": 248,
   "id": "d619e207-a260-4616-b1f6-48c9f1a14e0d",
   "metadata": {},
   "outputs": [
    {
     "name": "stdout",
     "output_type": "stream",
     "text": [
      "Memory\n",
      "4 GB      0.298651\n",
      "3 GB      0.159923\n",
      "6 GB      0.159602\n",
      "2 GB      0.125241\n",
      "8 GB      0.110790\n",
      "Others    0.083815\n",
      "1 GB      0.061978\n",
      "Name: Memory, dtype: float64 \n",
      "\n",
      "Storage\n",
      "64 GB     0.261079\n",
      "128 GB    0.245344\n",
      "32 GB     0.178227\n",
      "Others    0.134875\n",
      "16 GB     0.103404\n",
      "256 GB    0.077071\n",
      "Name: Storage, dtype: float64 \n",
      "\n"
     ]
    }
   ],
   "source": [
    "# rechecking ratio of different categories\n",
    "for feature in ['Memory', 'Storage']:\n",
    "    print(feature)\n",
    "    print(df[feature].value_counts() / len(df), '\\n')"
   ]
  },
  {
   "cell_type": "markdown",
   "id": "d5581ab3-1dc6-43b8-9259-be2eaad37329",
   "metadata": {
    "tags": []
   },
   "source": [
    "## Exploratory Data Analysis"
   ]
  },
  {
   "cell_type": "markdown",
   "id": "82bf1670-3297-490c-a435-5e5e2a164ed8",
   "metadata": {},
   "source": [
    "### Checking for distribution of Selling Price"
   ]
  },
  {
   "cell_type": "code",
   "execution_count": 249,
   "id": "5b4b434b-9db2-480c-bfc2-12dd8dfe9867",
   "metadata": {},
   "outputs": [
    {
     "name": "stdout",
     "output_type": "stream",
     "text": [
      "count      3114.000000\n",
      "mean      28333.473025\n",
      "std       31525.599889\n",
      "min        1000.000000\n",
      "10%        6990.000000\n",
      "25%       10030.250000\n",
      "50%       16889.500000\n",
      "75%       31500.000000\n",
      "90%       65999.000000\n",
      "max      189999.000000\n",
      "Name: Original Price, dtype: float64 \n",
      "\n"
     ]
    },
    {
     "data": {
      "image/png": "[encoded data removed]",
      "text/plain": [
       "<Figure size 432x288 with 1 Axes>"
      ]
     },
     "metadata": {
      "needs_background": "light"
     },
     "output_type": "display_data"
    }
   ],
   "source": [
    "df['Original Price'].plot.hist(bins=25)\n",
    "print(df['Original Price'].describe(percentiles=[0.1,0.25,0.5,0.75,0.9]),'\\n')\n",
    "plt.show()"
   ]
  },
  {
   "cell_type": "markdown",
   "id": "c6dac21d-7cb3-4394-92b1-a3dac37a7668",
   "metadata": {},
   "source": [
    "- We can see that the distribution of Selling Price is right skewed with mean at 28333 and outliers towards the right."
   ]
  },
  {
   "cell_type": "code",
   "execution_count": 250,
   "id": "c1fccc23-4fb5-48b9-a8f4-f66cb73ef313",
   "metadata": {},
   "outputs": [
    {
     "data": {
      "image/png": "[encoded data removed]",
      "text/plain": [
       "<Figure size 432x288 with 1 Axes>"
      ]
     },
     "metadata": {
      "needs_background": "light"
     },
     "output_type": "display_data"
    }
   ],
   "source": [
    "# visualizing outliers using boxplot\n",
    "df.boxplot(column='Selling Price')\n",
    "plt.show()"
   ]
  },
  {
   "cell_type": "markdown",
   "id": "2d6a14bf-b01f-4919-8dbc-b3048e420af1",
   "metadata": {},
   "source": [
    "- We can verify the presence of large number of outliers towards the end of the distribution.\n",
    "- 50% of the mobiles have prices equal to or below Rs. 16889. However owing to distribution being heavily right skewed, the mean becomes Rs. 28333."
   ]
  },
  {
   "cell_type": "markdown",
   "id": "58564e77-0cd4-4427-aff4-464e4909c9d6",
   "metadata": {},
   "source": [
    "### Checking for distribution of Discount"
   ]
  },
  {
   "cell_type": "code",
   "execution_count": 251,
   "id": "a0da11ac-ac4e-4c39-831c-7195bdb0a354",
   "metadata": {},
   "outputs": [
    {
     "name": "stdout",
     "output_type": "stream",
     "text": [
      "count     3114.000000\n",
      "mean      1896.847463\n",
      "std       5337.126176\n",
      "min      -8000.000000\n",
      "10%          0.000000\n",
      "25%          0.000000\n",
      "50%          0.000000\n",
      "75%       2000.000000\n",
      "90%       4901.000000\n",
      "max      75000.000000\n",
      "Name: Discount, dtype: float64 \n",
      "\n"
     ]
    },
    {
     "data": {
      "image/png": "[encoded data removed]",
      "text/plain": [
       "<Figure size 432x288 with 1 Axes>"
      ]
     },
     "metadata": {
      "needs_background": "light"
     },
     "output_type": "display_data"
    }
   ],
   "source": [
    "df['Discount'].plot.hist()\n",
    "print(df['Discount'].describe(percentiles=[0.1,0.25,0.5,0.75,0.9]),'\\n')\n",
    "plt.show()"
   ]
  },
  {
   "cell_type": "markdown",
   "id": "de2902bf-b3e4-44ad-b30d-25432f243e10",
   "metadata": {},
   "source": [
    "- The distribution of discount is similar to that of Selling Price i.e. it is heavily skewed towards right.\n",
    "- Presence of outliers have risen the mean discount to Rs. 1896."
   ]
  },
  {
   "cell_type": "markdown",
   "id": "32cdd362-b56f-44be-aee6-4616ba31679e",
   "metadata": {
    "tags": []
   },
   "source": [
    "### Sale and Discount distribution by Brand"
   ]
  },
  {
   "cell_type": "code",
   "execution_count": 252,
   "id": "9383f520-f87d-4aa6-8633-7dc8877d53c7",
   "metadata": {},
   "outputs": [
    {
     "data": {
      "text/plain": [
       "array(['OPPO', 'HTC', 'IQOO', 'Google Pixel', 'LG', 'ASUS', 'realme',\n",
       "       'GIONEE', 'Nokia', 'Apple', 'SAMSUNG', 'Lenovo', 'Motorola',\n",
       "       'POCO', 'vivo', 'Xiaomi', 'Infinix'], dtype=object)"
      ]
     },
     "execution_count": 252,
     "metadata": {},
     "output_type": "execute_result"
    }
   ],
   "source": [
    "# list of unique brands\n",
    "unique_brands = df.Brand.unique()\n",
    "unique_brands"
   ]
  },
  {
   "cell_type": "code",
   "execution_count": 253,
   "id": "7755e20c-feed-4867-8758-504b96421f7d",
   "metadata": {},
   "outputs": [
    {
     "data": {
      "image/png": "[encoded data removed]",
      "text/plain": [
       "<Figure size 432x288 with 1 Axes>"
      ]
     },
     "metadata": {
      "needs_background": "light"
     },
     "output_type": "display_data"
    },
    {
     "data": {
      "image/png": "[encoded data removed]",
      "text/plain": [
       "<Figure size 432x288 with 1 Axes>"
      ]
     },
     "metadata": {
      "needs_background": "light"
     },
     "output_type": "display_data"
    }
   ],
   "source": [
    "# visualizing sale of different brands\n",
    "_ = df.groupby('Brand')['Selling Price'].count().sort_values(ascending=True).plot.barh(color='orange')\n",
    "plt.title('Number of mobiles sold')\n",
    "plt.show()\n",
    "_ = df.groupby('Brand')['Selling Price'].sum().sort_values(ascending=True).plot.barh()\n",
    "plt.title('Total revenue of each brands')\n",
    "plt.show()"
   ]
  },
  {
   "cell_type": "markdown",
   "id": "21d38510-5fba-4118-abc6-2adb3dd05d9f",
   "metadata": {},
   "source": [
    "- Apple has the highest sales on Flipkart even though Samsung has sold the maximum number of mobiles followed by Iphone."
   ]
  },
  {
   "cell_type": "code",
   "execution_count": 254,
   "id": "9498d43a-642b-4b54-afbd-1c2ecdefd59e",
   "metadata": {},
   "outputs": [
    {
     "data": {
      "image/png": "[encoded data removed]",
      "text/plain": [
       "<Figure size 432x288 with 1 Axes>"
      ]
     },
     "metadata": {
      "needs_background": "light"
     },
     "output_type": "display_data"
    }
   ],
   "source": [
    "_ = df.groupby('Brand')['Original Price'].mean().sort_values(ascending=True).plot.barh(color='brown')\n",
    "plt.title('Average price of mobiles of each brand')\n",
    "plt.show()"
   ]
  },
  {
   "cell_type": "markdown",
   "id": "8d742dc1-222b-4d47-a94d-751ea6bb77a3",
   "metadata": {},
   "source": [
    "- We can see that average price of Apple mobiles are way higher when compared to that of Samsung mobiles. Due to this, Apple tops the sales chart even though Samsung is quite ahead in terms of market volume."
   ]
  },
  {
   "cell_type": "code",
   "execution_count": 255,
   "id": "28154233-abe5-4d74-977d-2a2f70f9bb87",
   "metadata": {},
   "outputs": [
    {
     "data": {
      "image/png": "[encoded data removed]",
      "text/plain": [
       "<Figure size 432x288 with 1 Axes>"
      ]
     },
     "metadata": {
      "needs_background": "light"
     },
     "output_type": "display_data"
    }
   ],
   "source": [
    "_ = df.groupby('Brand')['Discount'].mean().sort_values(ascending=True).plot.barh(color='red')\n",
    "plt.title('Average discount given by each brands')\n",
    "plt.show()"
   ]
  },
  {
   "cell_type": "markdown",
   "id": "81b8f8e0-2f3b-44c0-8a3f-dc0b53dc6e55",
   "metadata": {},
   "source": [
    "- Motorola is giving largest discount on their mobiles."
   ]
  },
  {
   "cell_type": "markdown",
   "id": "4dc991aa-97e0-49d1-9850-dbd6f6911bad",
   "metadata": {
    "tags": []
   },
   "source": [
    "### Sale and Discount distribution by Memory"
   ]
  },
  {
   "cell_type": "code",
   "execution_count": 256,
   "id": "6644014a-5cf9-4aec-9689-719c2b9cd4bb",
   "metadata": {},
   "outputs": [
    {
     "data": {
      "image/png": "[encoded data removed]",
      "text/plain": [
       "<Figure size 432x288 with 1 Axes>"
      ]
     },
     "metadata": {
      "needs_background": "light"
     },
     "output_type": "display_data"
    }
   ],
   "source": [
    "# number of mobiles of each memory type sold\n",
    "_= df.groupby('Memory')['Selling Price'].count().plot.barh(color='orange')\n",
    "plt.title('Number of mobiles sold by Memory')\n",
    "plt.show()"
   ]
  },
  {
   "cell_type": "code",
   "execution_count": 257,
   "id": "ed506351-4a7c-46ee-90c2-dbd30ebb309f",
   "metadata": {},
   "outputs": [
    {
     "data": {
      "image/png": "[encoded data removed]",
      "text/plain": [
       "<Figure size 432x288 with 1 Axes>"
      ]
     },
     "metadata": {
      "needs_background": "light"
     },
     "output_type": "display_data"
    }
   ],
   "source": [
    "# total sale by memory\n",
    "_= df.groupby('Memory')['Selling Price'].sum().plot.barh()\n",
    "plt.title('Total sales by Memory')\n",
    "plt.show()"
   ]
  },
  {
   "cell_type": "markdown",
   "id": "623c1600-835c-46f6-a93c-85b50f9af66c",
   "metadata": {},
   "source": [
    "- 4GB mobiles have dominated the market in terms of both total sales as well as market volume."
   ]
  },
  {
   "cell_type": "code",
   "execution_count": 258,
   "id": "474d5441-0ffa-445d-ba68-224143893a0a",
   "metadata": {},
   "outputs": [
    {
     "data": {
      "image/png": "[encoded data removed]",
      "text/plain": [
       "<Figure size 432x288 with 1 Axes>"
      ]
     },
     "metadata": {
      "needs_background": "light"
     },
     "output_type": "display_data"
    }
   ],
   "source": [
    "# average sale of each memory type\n",
    "_= df.groupby('Memory')['Selling Price'].mean().plot.barh(color='brown')\n",
    "plt.title('Average price by Memory')\n",
    "plt.show()"
   ]
  },
  {
   "cell_type": "markdown",
   "id": "a87ced3f-ea1f-4ce5-b479-95b21f39b8ed",
   "metadata": {},
   "source": [
    "- The average price for 4GB, 6GB and 8GB mobiles doesn't differ by much. On top of that, the average price of 6GB mobiles are higher than that of 8GB mobiles. Ideally this shouldn't have happened. Let's dig deeper to find out the reason."
   ]
  },
  {
   "cell_type": "code",
   "execution_count": 259,
   "id": "26089800-7680-4000-8b7b-3e38ff8486a1",
   "metadata": {},
   "outputs": [
    {
     "data": {
      "image/png": "[encoded data removed]",
      "text/plain": [
       "<Figure size 432x288 with 1 Axes>"
      ]
     },
     "metadata": {
      "needs_background": "light"
     },
     "output_type": "display_data"
    }
   ],
   "source": [
    "# getting the maximum price of different Memory type\n",
    "_ = df.groupby('Memory')['Selling Price'].max().sort_values(ascending=True).plot.barh()\n",
    "plt.title('Maximum price by Memory')\n",
    "plt.show()"
   ]
  },
  {
   "cell_type": "code",
   "execution_count": 260,
   "id": "2ca48072-18d7-4f2c-a8ec-41a1c2efa122",
   "metadata": {},
   "outputs": [
    {
     "data": {
      "text/html": [
       "<div>\n",
       "<style scoped>\n",
       "    .dataframe tbody tr th:only-of-type {\n",
       "        vertical-align: middle;\n",
       "    }\n",
       "\n",
       "    .dataframe tbody tr th {\n",
       "        vertical-align: top;\n",
       "    }\n",
       "\n",
       "    .dataframe thead th {\n",
       "        text-align: right;\n",
       "    }\n",
       "</style>\n",
       "<table border=\"1\" class=\"dataframe\">\n",
       "  <thead>\n",
       "    <tr style=\"text-align: right;\">\n",
       "      <th></th>\n",
       "      <th>Brand</th>\n",
       "      <th>Model</th>\n",
       "      <th>Color</th>\n",
       "      <th>Memory</th>\n",
       "      <th>Storage</th>\n",
       "      <th>Rating</th>\n",
       "      <th>Selling Price</th>\n",
       "      <th>Original Price</th>\n",
       "      <th>Discount</th>\n",
       "    </tr>\n",
       "  </thead>\n",
       "  <tbody>\n",
       "    <tr>\n",
       "      <th>1233</th>\n",
       "      <td>Apple</td>\n",
       "      <td>iPhone 13 Pro Max</td>\n",
       "      <td>Sierra Blue</td>\n",
       "      <td>6 GB</td>\n",
       "      <td>Others</td>\n",
       "      <td>4.3</td>\n",
       "      <td>179900</td>\n",
       "      <td>179900</td>\n",
       "      <td>0</td>\n",
       "    </tr>\n",
       "    <tr>\n",
       "      <th>1255</th>\n",
       "      <td>Apple</td>\n",
       "      <td>iPhone 13 Pro Max</td>\n",
       "      <td>Gold</td>\n",
       "      <td>6 GB</td>\n",
       "      <td>64 GB</td>\n",
       "      <td>4.3</td>\n",
       "      <td>179900</td>\n",
       "      <td>179900</td>\n",
       "      <td>0</td>\n",
       "    </tr>\n",
       "    <tr>\n",
       "      <th>1351</th>\n",
       "      <td>Apple</td>\n",
       "      <td>iPhone 13 Pro Max</td>\n",
       "      <td>Gold</td>\n",
       "      <td>6 GB</td>\n",
       "      <td>Others</td>\n",
       "      <td>4.3</td>\n",
       "      <td>179900</td>\n",
       "      <td>179900</td>\n",
       "      <td>0</td>\n",
       "    </tr>\n",
       "    <tr>\n",
       "      <th>1414</th>\n",
       "      <td>Apple</td>\n",
       "      <td>iPhone 13 Pro Max</td>\n",
       "      <td>Graphite</td>\n",
       "      <td>6 GB</td>\n",
       "      <td>Others</td>\n",
       "      <td>4.3</td>\n",
       "      <td>179900</td>\n",
       "      <td>179900</td>\n",
       "      <td>0</td>\n",
       "    </tr>\n",
       "    <tr>\n",
       "      <th>1459</th>\n",
       "      <td>Apple</td>\n",
       "      <td>iPhone 13 Pro Max</td>\n",
       "      <td>Silver</td>\n",
       "      <td>6 GB</td>\n",
       "      <td>Others</td>\n",
       "      <td>4.3</td>\n",
       "      <td>179900</td>\n",
       "      <td>179900</td>\n",
       "      <td>0</td>\n",
       "    </tr>\n",
       "    <tr>\n",
       "      <th>3044</th>\n",
       "      <td>Apple</td>\n",
       "      <td>iPhone 13 Pro Max</td>\n",
       "      <td>Silver</td>\n",
       "      <td>4 GB</td>\n",
       "      <td>Others</td>\n",
       "      <td>4.7</td>\n",
       "      <td>179900</td>\n",
       "      <td>179900</td>\n",
       "      <td>0</td>\n",
       "    </tr>\n",
       "    <tr>\n",
       "      <th>3051</th>\n",
       "      <td>Apple</td>\n",
       "      <td>iPhone 13 Pro Max</td>\n",
       "      <td>Gold</td>\n",
       "      <td>4 GB</td>\n",
       "      <td>Others</td>\n",
       "      <td>4.7</td>\n",
       "      <td>179900</td>\n",
       "      <td>179900</td>\n",
       "      <td>0</td>\n",
       "    </tr>\n",
       "    <tr>\n",
       "      <th>3057</th>\n",
       "      <td>Apple</td>\n",
       "      <td>iPhone 13 Pro Max</td>\n",
       "      <td>Graphite</td>\n",
       "      <td>4 GB</td>\n",
       "      <td>Others</td>\n",
       "      <td>4.7</td>\n",
       "      <td>179900</td>\n",
       "      <td>179900</td>\n",
       "      <td>0</td>\n",
       "    </tr>\n",
       "    <tr>\n",
       "      <th>3058</th>\n",
       "      <td>Apple</td>\n",
       "      <td>iPhone 13 Pro Max</td>\n",
       "      <td>Sierra Blue</td>\n",
       "      <td>4 GB</td>\n",
       "      <td>Others</td>\n",
       "      <td>4.7</td>\n",
       "      <td>179900</td>\n",
       "      <td>179900</td>\n",
       "      <td>0</td>\n",
       "    </tr>\n",
       "  </tbody>\n",
       "</table>\n",
       "</div>"
      ],
      "text/plain": [
       "      Brand               Model        Color Memory Storage  Rating  \\\n",
       "1233  Apple  iPhone 13 Pro Max   Sierra Blue   6 GB  Others     4.3   \n",
       "1255  Apple  iPhone 13 Pro Max          Gold   6 GB   64 GB     4.3   \n",
       "1351  Apple  iPhone 13 Pro Max          Gold   6 GB  Others     4.3   \n",
       "1414  Apple  iPhone 13 Pro Max      Graphite   6 GB  Others     4.3   \n",
       "1459  Apple  iPhone 13 Pro Max        Silver   6 GB  Others     4.3   \n",
       "3044  Apple   iPhone 13 Pro Max       Silver   4 GB  Others     4.7   \n",
       "3051  Apple   iPhone 13 Pro Max         Gold   4 GB  Others     4.7   \n",
       "3057  Apple   iPhone 13 Pro Max     Graphite   4 GB  Others     4.7   \n",
       "3058  Apple   iPhone 13 Pro Max  Sierra Blue   4 GB  Others     4.7   \n",
       "\n",
       "      Selling Price  Original Price  Discount  \n",
       "1233         179900          179900         0  \n",
       "1255         179900          179900         0  \n",
       "1351         179900          179900         0  \n",
       "1414         179900          179900         0  \n",
       "1459         179900          179900         0  \n",
       "3044         179900          179900         0  \n",
       "3051         179900          179900         0  \n",
       "3057         179900          179900         0  \n",
       "3058         179900          179900         0  "
      ]
     },
     "execution_count": 260,
     "metadata": {},
     "output_type": "execute_result"
    }
   ],
   "source": [
    "# getting the mobiles with maximum selling price\n",
    "df[df['Selling Price'].isin(df['Selling Price'].nlargest())]"
   ]
  },
  {
   "cell_type": "markdown",
   "id": "b13e423d-1903-43a8-bbc6-1e079aed66ed",
   "metadata": {},
   "source": [
    "- We can see that the above anomaly is due to the presence of 'iPhone 13 Pro Max' in 4GB and 6GB categories which carries a hefty price tag of 179900."
   ]
  },
  {
   "cell_type": "code",
   "execution_count": 261,
   "id": "1749f751-debb-4a73-bf93-aed1397e5ec5",
   "metadata": {},
   "outputs": [
    {
     "data": {
      "image/png": "[encoded data removed]",
      "text/plain": [
       "<Figure size 432x288 with 1 Axes>"
      ]
     },
     "metadata": {
      "needs_background": "light"
     },
     "output_type": "display_data"
    }
   ],
   "source": [
    "_ = df.groupby('Memory')['Discount'].mean().sort_values(ascending=True).plot.barh(color='red')\n",
    "plt.title('Average discount given by each memory types')\n",
    "plt.show()"
   ]
  },
  {
   "cell_type": "markdown",
   "id": "963c77a8-d793-4e32-88ff-14d248806f8f",
   "metadata": {},
   "source": [
    "- Mobiles with 8GB memory are offering the highest discounts."
   ]
  },
  {
   "cell_type": "markdown",
   "id": "abdd5c42-bc9d-49bf-a230-2dc4d9fa52af",
   "metadata": {
    "tags": []
   },
   "source": [
    "### Sale and Discount distribution by Storage"
   ]
  },
  {
   "cell_type": "code",
   "execution_count": 262,
   "id": "6c914d33-54eb-4934-90f2-69cdc02a961a",
   "metadata": {},
   "outputs": [
    {
     "data": {
      "image/png": "[encoded data removed]",
      "text/plain": [
       "<Figure size 432x288 with 1 Axes>"
      ]
     },
     "metadata": {
      "needs_background": "light"
     },
     "output_type": "display_data"
    }
   ],
   "source": [
    "# number of mobiles sold by Storage\n",
    "_= df.groupby('Storage')['Selling Price'].count().sort_values().plot.barh(color='orange')\n",
    "plt.title('Number of mobiles sold by Storage')\n",
    "plt.show()"
   ]
  },
  {
   "cell_type": "code",
   "execution_count": 263,
   "id": "5291d33a-b166-4f77-acc2-8ec1052e0098",
   "metadata": {},
   "outputs": [
    {
     "data": {
      "image/png": "[encoded data removed]",
      "text/plain": [
       "<Figure size 432x288 with 1 Axes>"
      ]
     },
     "metadata": {
      "needs_background": "light"
     },
     "output_type": "display_data"
    }
   ],
   "source": [
    "# total sales by storage\n",
    "_ = df.groupby('Storage')['Selling Price'].sum().sort_values().plot.barh()\n",
    "plt.title('Total sales by Storage')\n",
    "plt.show()"
   ]
  },
  {
   "cell_type": "code",
   "execution_count": 264,
   "id": "bc01c229-e517-475c-982a-9bdd8b218b6c",
   "metadata": {},
   "outputs": [
    {
     "data": {
      "image/png": "[encoded data removed]",
      "text/plain": [
       "<Figure size 432x288 with 1 Axes>"
      ]
     },
     "metadata": {
      "needs_background": "light"
     },
     "output_type": "display_data"
    }
   ],
   "source": [
    "# average price of mobiles in each category\n",
    "_ = df.groupby('Storage')['Selling Price'].mean().sort_values().plot.barh(color='brown')\n",
    "plt.title('Average price by Storage')\n",
    "plt.show()"
   ]
  },
  {
   "cell_type": "markdown",
   "id": "c31ba284-73bf-4cc5-b07e-19dda2d2d004",
   "metadata": {},
   "source": [
    "- In terms of number of units sold, 64 GB mobiles are at top, closely followed by 128 GB mobiles. However, 128 GB handsets beat the 64 GB mobiles in terms of Total sales owing to higher average price."
   ]
  },
  {
   "cell_type": "code",
   "execution_count": 265,
   "id": "0f36e9bf-54b5-4798-9d1b-4195a340c65f",
   "metadata": {},
   "outputs": [
    {
     "data": {
      "image/png": "[encoded data removed]",
      "text/plain": [
       "<Figure size 432x288 with 1 Axes>"
      ]
     },
     "metadata": {
      "needs_background": "light"
     },
     "output_type": "display_data"
    }
   ],
   "source": [
    "_ = df.groupby('Storage')['Discount'].mean().sort_values(ascending=True).plot.barh(color='red')\n",
    "plt.title('Average discount given by each storage')\n",
    "plt.show()"
   ]
  },
  {
   "cell_type": "markdown",
   "id": "45075497-fbc7-47fd-be3a-5600db1ff62f",
   "metadata": {},
   "source": [
    "- Mobiles with 256 GB storage are offering highest discounts."
   ]
  },
  {
   "cell_type": "markdown",
   "id": "dc402d5d-0720-4cab-b707-8200ed77aecd",
   "metadata": {
    "tags": []
   },
   "source": [
    "### Selling Price vs Rating"
   ]
  },
  {
   "cell_type": "code",
   "execution_count": 266,
   "id": "6965605f-31d8-4a9b-bf5c-e1f7efbc56f3",
   "metadata": {},
   "outputs": [
    {
     "data": {
      "image/png": "[encoded data removed]",
      "text/plain": [
       "<Figure size 432x288 with 1 Axes>"
      ]
     },
     "metadata": {
      "needs_background": "light"
     },
     "output_type": "display_data"
    },
    {
     "data": {
      "text/plain": [
       "<Figure size 360x288 with 0 Axes>"
      ]
     },
     "metadata": {},
     "output_type": "display_data"
    }
   ],
   "source": [
    "sns.scatterplot(data=df, x=df.Rating, y=df['Selling Price'])\n",
    "plt.figure(figsize=(5, 4))\n",
    "plt.show()"
   ]
  },
  {
   "cell_type": "markdown",
   "id": "3a511101-0050-4b33-a106-34e597004685",
   "metadata": {},
   "source": [
    "- Most of the high-end mobiles (mobiles with price above Rs. 25000) have 4+ rating.\n",
    "- However there are many low-end mobiles with 4+ rating as well.\n",
    "- There are two low-end mobiles and three high-end mobiles with a perfect score."
   ]
  },
  {
   "cell_type": "code",
   "execution_count": 267,
   "id": "fe1fc329-e94d-48d1-b305-99846068aa07",
   "metadata": {},
   "outputs": [
    {
     "data": {
      "image/png": "[encoded data removed]",
      "text/plain": [
       "<Figure size 432x288 with 1 Axes>"
      ]
     },
     "metadata": {
      "needs_background": "light"
     },
     "output_type": "display_data"
    }
   ],
   "source": [
    "memory = df1.Memory.apply(lambda x: float(x.strip(' MB')) / 1024 if 'MB' in x \n",
    "                          else float(x.strip(' GB')))\n",
    "sns.scatterplot(data=df, x=memory, y=df1['Selling Price'])\n",
    "plt.show()"
   ]
  }
 ],
 "metadata": {
  "kernelspec": {
   "display_name": "Python 3 (ipykernel)",
   "language": "python",
   "name": "python3"
  },
  "language_info": {
   "codemirror_mode": {
    "name": "ipython",
    "version": 3
   },
   "file_extension": ".py",
   "mimetype": "text/x-python",
   "name": "python",
   "nbconvert_exporter": "python",
   "pygments_lexer": "ipython3",
   "version": "3.9.12"
  }
 },
 "nbformat": 4,
 "nbformat_minor": 5
}
